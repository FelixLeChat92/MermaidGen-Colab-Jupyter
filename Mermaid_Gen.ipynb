{
  "nbformat": 4,
  "nbformat_minor": 0,
  "metadata": {
    "colab": {
      "provenance": [],
      "authorship_tag": "ABX9TyPMOH/LVbD/sSSKbB8eawdc",
      "include_colab_link": true
    },
    "kernelspec": {
      "name": "python3",
      "display_name": "Python 3"
    },
    "language_info": {
      "name": "python"
    }
  },
  "cells": [
    {
      "cell_type": "markdown",
      "metadata": {
        "id": "view-in-github",
        "colab_type": "text"
      },
      "source": [
        "<a href=\"https://colab.research.google.com/github/FelixLeChat92/MermaidGen-Colab-Jupyter/blob/main/Mermaid_Gen.ipynb\" target=\"_parent\"><img src=\"https://colab.research.google.com/assets/colab-badge.svg\" alt=\"Open In Colab\"/></a>"
      ]
    },
    {
      "cell_type": "markdown",
      "source": [
        "#Importation\n",
        "(execution obligatoire)"
      ],
      "metadata": {
        "id": "p7M9BeQ1dHfB"
      }
    },
    {
      "cell_type": "code",
      "source": [
        "import base64\n",
        "import json\n",
        "import zlib\n",
        "from IPython.display import SVG, Image\n",
        "import requests"
      ],
      "metadata": {
        "id": "iJaI8ywEatUE"
      },
      "execution_count": 1,
      "outputs": []
    },
    {
      "cell_type": "markdown",
      "source": [
        "#Section à modifier en fonction du diagramme\n",
        "(execution obligatoire)"
      ],
      "metadata": {
        "id": "tEVmStoBdKjy"
      }
    },
    {
      "cell_type": "code",
      "source": [
        "# Exemple d'utilisation\n",
        "mermaid_code = '''\n",
        "mindmap\n",
        "  root((Médicaments de l'HTA))\n",
        "    Diurétiques\n",
        "      Thiazidiques\n",
        "        Hydrochlorothiazide\n",
        "        Indapamide\n",
        "      Diurétiques de l'anse\n",
        "        Furosémide\n",
        "        Bumétanide\n",
        "      Épargneurs de potassium\n",
        "        Spironolactone\n",
        "        Éplérénone\n",
        "    Bêta-bloquants\n",
        "      Aténolol\n",
        "      Métoprolol\n",
        "      Bisoprolol\n",
        "    Inhibiteurs de l'enzyme de conversion (IEC)\n",
        "      Captopril\n",
        "      Énalapril\n",
        "      Ramipril\n",
        "    Antagonistes des récepteurs de l'angiotensine II (ARA II)\n",
        "      Losartan\n",
        "      Valsartan\n",
        "      Candésartan\n",
        "    Inhibiteurs calciques\n",
        "      Dihydropyridines\n",
        "        Amlodipine\n",
        "        Nifédipine\n",
        "      Non-dihydropyridines\n",
        "        Diltiazem\n",
        "        Vérapamil\n",
        "    Antihypertenseurs centraux\n",
        "      Méthyldopa\n",
        "      Clonidine\n",
        "      Moxonidine\n",
        "    Vasodilatateurs\n",
        "      Hydralazine\n",
        "      Minoxidil\n",
        "'''\n",
        "\n",
        "from IPython.display import SVG"
      ],
      "metadata": {
        "id": "JJxs5KNEanHW"
      },
      "execution_count": 3,
      "outputs": []
    },
    {
      "cell_type": "markdown",
      "source": [
        "#Génération du lien mermaid.live (éditeur en ligne)\n",
        "(execution indépendante)"
      ],
      "metadata": {
        "id": "M1tiQL0FdSne"
      }
    },
    {
      "cell_type": "code",
      "execution_count": 4,
      "metadata": {
        "colab": {
          "base_uri": "https://localhost:8080/"
        },
        "id": "NNTyOMampQ8v",
        "outputId": "cdf3fea6-6321-46ef-a2f5-35da05124d22"
      },
      "outputs": [
        {
          "output_type": "stream",
          "name": "stdout",
          "text": [
            "Lien mermaid.live : \n",
            "http://mermaid.live/edit#pako:eNp1U01PwzAM/StRL2wSSFzh1m0gKjEOgHbaxSRhtZTYWZKibYj/Tvq1pUic2rzYL/bz83chWeniXhRbskjKgtuSEJ45zmbrbXN7q+8USrCaYhBKC3P19F7O522QECtsfB8Tcd/o0KNCvNcIJ1QTTIino/Isa8OeYx+gL5cVKXBgM+wvef86UMiyHhvPoQ+yE7pFY4dcoOyixeSdA78j3fiO0nGEEDDFn5PfHHomNiAjU0Y6ZJueeSiOziGLDoAINx+G9w0kxcbcMo7Bhs0IDvJGdj6HFxgmSEU1fmAc6zVXmk5Hq9t/yfSlfUAmMaselvORYgmuZUUz7ZvAQI6+Jr0v55Ii7JgwxE7rIIYGpXbZ40A75KgpIGlRVWJWvpbpe376mQP4JPp43oCZAksg1RPneN6kBCMn1llh3VrHHX3yFOWWKq1hhQ7zKb3g5+jb/OKF6Ub9S7RCE5MldeaCzTDmzpYXjRKF075VoC82LYaH5vB3qPXRKHZw7tokZVVWzpoPE2QDIXVikns6EcawdmfS1E55JhIfUmYqqbgWhdXeAqq0wt9FrLXtljkkYRV4Vfz8/AJrZT0U\n"
          ]
        }
      ],
      "source": [
        "def js_btoa(data):\n",
        "    return base64.b64encode(data)\n",
        "\n",
        "def pako_deflate(data):\n",
        "    compress = zlib.compressobj(9, zlib.DEFLATED, 15, 8, zlib.Z_DEFAULT_STRATEGY)\n",
        "    compressed_data = compress.compress(data)\n",
        "    compressed_data += compress.flush()\n",
        "    return compressed_data\n",
        "\n",
        "def genPakoLink(graphMarkdown: str):\n",
        "    jGraph = {\"code\": graphMarkdown, \"mermaid\": {\"theme\": \"standard\"}}\n",
        "    byteStr = json.dumps(jGraph).encode('utf-8')\n",
        "    deflated = pako_deflate(byteStr)\n",
        "    dEncode = js_btoa(deflated)\n",
        "    link_code = dEncode.decode('ascii')\n",
        "    return link_code\n",
        "\n",
        "mermaid_link = genPakoLink(mermaid_code)\n",
        "print(\"Lien mermaid.live : \")\n",
        "print('http://mermaid.live/edit#pako:' + mermaid_link)\n"
      ]
    },
    {
      "cell_type": "markdown",
      "source": [
        "#Génération à partir de kroki.io (SVG, qualité haute)\n",
        "(execution indépendante)"
      ],
      "metadata": {
        "id": "GXSSiFHpc8SA"
      }
    },
    {
      "cell_type": "code",
      "source": [
        "import sys\n",
        "import base64\n",
        "import zlib\n",
        "from IPython.display import SVG\n",
        "\n",
        "\n",
        "def encode_mermaid_to_kroki_url(mermaid_diagram, compression_level=9):\n",
        "    # Compresser le diagramme Mermaid avec zlib\n",
        "    mermaid_compressed = zlib.compress(mermaid_diagram.encode('utf-8'), compression_level)\n",
        "\n",
        "    # Encoder le diagramme compressé en base64 URL-safe\n",
        "    mermaid_base64 = base64.urlsafe_b64encode(mermaid_compressed).decode('utf-8')\n",
        "\n",
        "    # Construire l'URL Kroki complète\n",
        "    kroki_url = f\"https://kroki.io/mermaid/svg/{mermaid_base64}\"\n",
        "\n",
        "    return kroki_url\n",
        "\n",
        "kroki_link = encode_mermaid_to_kroki_url(mermaid_code)\n",
        "print(kroki_link)\n",
        "\n",
        "string = kroki_link[-8:]\n",
        "filename = string[:8] + \".svg\"\n",
        "\n",
        "response = requests.get(kroki_link)\n",
        "if response.status_code == 200:\n",
        "  # Enregistrer l'image SVG dans un fichier\n",
        "  with open(filename, \"wb\") as file:\n",
        "    file.write(response.content)\n",
        "  print(f\"L'image SVG a été enregistrée sous le nom '{filename}'\")\n",
        "else:\n",
        "  print(\"Erreur lors du téléchargement de l'image SVG\")\n",
        "SVG(response.text)\n",
        "\n",
        "\n"
      ],
      "metadata": {
        "colab": {
          "base_uri": "https://localhost:8080/",
          "height": 687
        },
        "id": "PxcJHEnlSMI3",
        "outputId": "dd71a26c-85da-43c0-a093-69b12365898d"
      },
      "execution_count": 5,
      "outputs": [
        {
          "output_type": "stream",
          "name": "stdout",
          "text": [
            "https://kroki.io/mermaid/svg/eNp1UkFy2zAMvPsVvMU-5BGy3U400-SQZHxHRNbCDAgwJJWx_YM8Rf2GPlZItiX20JOEBbEAFrvyyNZDWBkTRfJ6_Tz0FhvwjnMy1hl6eHqvNhvNG7PHLg59xs_OpQkw5r1FuKAtIWOezjZK05JEyde8m3M1WwjgF6gkvTYETsv7n12UNPS-5Nh2XiuAF2z4DhCP7Lo4cQTJkBJ2fi55CxiFhaDJwguT1tHQa3--o9vhT4bHD5LPDlSC28sqj09I6BarSllCLJAtphKoucUPzPeB6MHx5ezd-N8If7mYUNis6x-7zY1gB2GkRJpXYiAogFdVbQ4rznAUxpQn1ZLRHRoXiobAR5TsOCE7U9dmXb1W-r23-yUJomp4Cw9A_8Q7YDv0BVQu1AA15cX32I4XD-eoTuDCCJUnsRiwUPwFf48OK7AX4Uf7P4Y9UlYHueWSB73X5KBZCK0NLo6rXqdT60boTsWp2jNZCXDfjVQ4uwzwLKcSOEDSoQkyTNuuFk_rPS5FGbKctIxWfwGzdAnh\n",
            "L'image SVG a été enregistrée sous le nom 'fwGzdAnh.svg'\n"
          ]
        },
        {
          "output_type": "execute_result",
          "data": {
            "text/plain": [
              "<IPython.core.display.SVG object>"
            ],
            "image/svg+xml": "<svg xmlns=\"http://www.w3.org/2000/svg\" aria-roledescription=\"mindmap\" role=\"graphics-document document\" viewBox=\"5 5 1087.0018310546875 610.530517578125\" style=\"max-width: 1087.0018310546875px;\" width=\"100%\" id=\"container\"><style>#container{font-family:&quot;trebuchet ms&quot;,verdana,arial,sans-serif;font-size:16px;fill:#333;}#container .error-icon{fill:#552222;}#container .error-text{fill:#552222;stroke:#552222;}#container .edge-thickness-normal{stroke-width:2px;}#container .edge-thickness-thick{stroke-width:3.5px;}#container .edge-pattern-solid{stroke-dasharray:0;}#container .edge-pattern-dashed{stroke-dasharray:3;}#container .edge-pattern-dotted{stroke-dasharray:2;}#container .marker{fill:#333333;stroke:#333333;}#container .marker.cross{stroke:#333333;}#container svg{font-family:&quot;trebuchet ms&quot;,verdana,arial,sans-serif;font-size:16px;}#container .edge{stroke-width:3;}#container .section--1 rect,#container .section--1 path,#container .section--1 circle,#container .section--1 polygon,#container .section--1 path{fill:hsl(240, 100%, 76.2745098039%);}#container .section--1 text{fill:#ffffff;}#container .node-icon--1{font-size:40px;color:#ffffff;}#container .section-edge--1{stroke:hsl(240, 100%, 76.2745098039%);}#container .edge-depth--1{stroke-width:17;}#container .section--1 line{stroke:hsl(60, 100%, 86.2745098039%);stroke-width:3;}#container .disabled,#container .disabled circle,#container .disabled text{fill:lightgray;}#container .disabled text{fill:#efefef;}#container .section-0 rect,#container .section-0 path,#container .section-0 circle,#container .section-0 polygon,#container .section-0 path{fill:hsl(60, 100%, 73.5294117647%);}#container .section-0 text{fill:black;}#container .node-icon-0{font-size:40px;color:black;}#container .section-edge-0{stroke:hsl(60, 100%, 73.5294117647%);}#container .edge-depth-0{stroke-width:14;}#container .section-0 line{stroke:hsl(240, 100%, 83.5294117647%);stroke-width:3;}#container .disabled,#container .disabled circle,#container .disabled text{fill:lightgray;}#container .disabled text{fill:#efefef;}#container .section-1 rect,#container .section-1 path,#container .section-1 circle,#container .section-1 polygon,#container .section-1 path{fill:hsl(80, 100%, 76.2745098039%);}#container .section-1 text{fill:black;}#container .node-icon-1{font-size:40px;color:black;}#container .section-edge-1{stroke:hsl(80, 100%, 76.2745098039%);}#container .edge-depth-1{stroke-width:11;}#container .section-1 line{stroke:hsl(260, 100%, 86.2745098039%);stroke-width:3;}#container .disabled,#container .disabled circle,#container .disabled text{fill:lightgray;}#container .disabled text{fill:#efefef;}#container .section-2 rect,#container .section-2 path,#container .section-2 circle,#container .section-2 polygon,#container .section-2 path{fill:hsl(270, 100%, 76.2745098039%);}#container .section-2 text{fill:#ffffff;}#container .node-icon-2{font-size:40px;color:#ffffff;}#container .section-edge-2{stroke:hsl(270, 100%, 76.2745098039%);}#container .edge-depth-2{stroke-width:8;}#container .section-2 line{stroke:hsl(90, 100%, 86.2745098039%);stroke-width:3;}#container .disabled,#container .disabled circle,#container .disabled text{fill:lightgray;}#container .disabled text{fill:#efefef;}#container .section-3 rect,#container .section-3 path,#container .section-3 circle,#container .section-3 polygon,#container .section-3 path{fill:hsl(300, 100%, 76.2745098039%);}#container .section-3 text{fill:black;}#container .node-icon-3{font-size:40px;color:black;}#container .section-edge-3{stroke:hsl(300, 100%, 76.2745098039%);}#container .edge-depth-3{stroke-width:5;}#container .section-3 line{stroke:hsl(120, 100%, 86.2745098039%);stroke-width:3;}#container .disabled,#container .disabled circle,#container .disabled text{fill:lightgray;}#container .disabled text{fill:#efefef;}#container .section-4 rect,#container .section-4 path,#container .section-4 circle,#container .section-4 polygon,#container .section-4 path{fill:hsl(330, 100%, 76.2745098039%);}#container .section-4 text{fill:black;}#container .node-icon-4{font-size:40px;color:black;}#container .section-edge-4{stroke:hsl(330, 100%, 76.2745098039%);}#container .edge-depth-4{stroke-width:2;}#container .section-4 line{stroke:hsl(150, 100%, 86.2745098039%);stroke-width:3;}#container .disabled,#container .disabled circle,#container .disabled text{fill:lightgray;}#container .disabled text{fill:#efefef;}#container .section-5 rect,#container .section-5 path,#container .section-5 circle,#container .section-5 polygon,#container .section-5 path{fill:hsl(0, 100%, 76.2745098039%);}#container .section-5 text{fill:black;}#container .node-icon-5{font-size:40px;color:black;}#container .section-edge-5{stroke:hsl(0, 100%, 76.2745098039%);}#container .edge-depth-5{stroke-width:-1;}#container .section-5 line{stroke:hsl(180, 100%, 86.2745098039%);stroke-width:3;}#container .disabled,#container .disabled circle,#container .disabled text{fill:lightgray;}#container .disabled text{fill:#efefef;}#container .section-6 rect,#container .section-6 path,#container .section-6 circle,#container .section-6 polygon,#container .section-6 path{fill:hsl(30, 100%, 76.2745098039%);}#container .section-6 text{fill:black;}#container .node-icon-6{font-size:40px;color:black;}#container .section-edge-6{stroke:hsl(30, 100%, 76.2745098039%);}#container .edge-depth-6{stroke-width:-4;}#container .section-6 line{stroke:hsl(210, 100%, 86.2745098039%);stroke-width:3;}#container .disabled,#container .disabled circle,#container .disabled text{fill:lightgray;}#container .disabled text{fill:#efefef;}#container .section-7 rect,#container .section-7 path,#container .section-7 circle,#container .section-7 polygon,#container .section-7 path{fill:hsl(90, 100%, 76.2745098039%);}#container .section-7 text{fill:black;}#container .node-icon-7{font-size:40px;color:black;}#container .section-edge-7{stroke:hsl(90, 100%, 76.2745098039%);}#container .edge-depth-7{stroke-width:-7;}#container .section-7 line{stroke:hsl(270, 100%, 86.2745098039%);stroke-width:3;}#container .disabled,#container .disabled circle,#container .disabled text{fill:lightgray;}#container .disabled text{fill:#efefef;}#container .section-8 rect,#container .section-8 path,#container .section-8 circle,#container .section-8 polygon,#container .section-8 path{fill:hsl(150, 100%, 76.2745098039%);}#container .section-8 text{fill:black;}#container .node-icon-8{font-size:40px;color:black;}#container .section-edge-8{stroke:hsl(150, 100%, 76.2745098039%);}#container .edge-depth-8{stroke-width:-10;}#container .section-8 line{stroke:hsl(330, 100%, 86.2745098039%);stroke-width:3;}#container .disabled,#container .disabled circle,#container .disabled text{fill:lightgray;}#container .disabled text{fill:#efefef;}#container .section-9 rect,#container .section-9 path,#container .section-9 circle,#container .section-9 polygon,#container .section-9 path{fill:hsl(180, 100%, 76.2745098039%);}#container .section-9 text{fill:black;}#container .node-icon-9{font-size:40px;color:black;}#container .section-edge-9{stroke:hsl(180, 100%, 76.2745098039%);}#container .edge-depth-9{stroke-width:-13;}#container .section-9 line{stroke:hsl(0, 100%, 86.2745098039%);stroke-width:3;}#container .disabled,#container .disabled circle,#container .disabled text{fill:lightgray;}#container .disabled text{fill:#efefef;}#container .section-10 rect,#container .section-10 path,#container .section-10 circle,#container .section-10 polygon,#container .section-10 path{fill:hsl(210, 100%, 76.2745098039%);}#container .section-10 text{fill:black;}#container .node-icon-10{font-size:40px;color:black;}#container .section-edge-10{stroke:hsl(210, 100%, 76.2745098039%);}#container .edge-depth-10{stroke-width:-16;}#container .section-10 line{stroke:hsl(30, 100%, 86.2745098039%);stroke-width:3;}#container .disabled,#container .disabled circle,#container .disabled text{fill:lightgray;}#container .disabled text{fill:#efefef;}#container .section-root rect,#container .section-root path,#container .section-root circle,#container .section-root polygon{fill:hsl(240, 100%, 46.2745098039%);}#container .section-root text{fill:#ffffff;}#container .icon-container{height:100%;display:flex;justify-content:center;align-items:center;}#container .edge{fill:none;}#container .mindmap-node-label{dy:1em;alignment-baseline:middle;text-anchor:middle;dominant-baseline:middle;text-align:center;}#container :root{--mermaid-font-family:&quot;trebuchet ms&quot;,verdana,arial,sans-serif;}</style><g/><g/><g class=\"mindmap-edges\"><path class=\"edge section-edge-0 edge-depth-2\" d=\"M 281.201253812462,404.9140361641382 L 197.4570397769018,410.16154916322716 L113.71282574134156,415.4090621623161\"/><path class=\"edge section-edge-0 edge-depth-2\" d=\"M 282.73688727345973,397.3050775043969 L 232.94288663497628,372.5808713757466 L183.14888599649282,347.85666524709643\"/><path class=\"edge section-edge-0 edge-depth-1\" d=\"M 459.76541112650625,405.2594544019044 L 385.4684207728625,404.6765467138507 L311.1714304192186,404.093639025797\"/><path class=\"edge section-edge-0 edge-depth-2\" d=\"M 514.4608214006728,514.929884171908 L 496.16998328566945,544.4073331625673 L477.8791451706661,573.8847821532265\"/><path class=\"edge section-edge-0 edge-depth-2\" d=\"M 534.7481746615533,510.6559034820926 L 573.2065147602788,536.9760291566396 L611.6648548590042,563.2961548311866\"/><path class=\"edge section-edge-0 edge-depth-1\" d=\"M 481.3841348078174,418.8376846669932 L 498.5672470136418,453.7806749064282 L515.7503592194663,488.7236651458632\"/><path class=\"edge section-edge-0 edge-depth-2\" d=\"M 309.79027526771984,488.15586215438327 L 304.19951458417813,519.3771860087393 L298.60875390063643,550.5985098630953\"/><path class=\"edge section-edge-0 edge-depth-2\" d=\"M 297.9401815042619,477.2536207361994 L 222.5652955627507,497.34222862777756 L147.1904096212395,517.4308365193557\"/><path class=\"edge section-edge-0 edge-depth-1\" d=\"M 460.9301931749618,411.17364452200206 L 393.5995994369972,439.3839280869056 L326.2690056990326,467.59421165180913\"/><path class=\"edge section-edge-0 edge-depth-0\" d=\"M 592.0305365040422,307.6392250633312 L 539.1590017741618,351.70631630518244 L486.28746704428136,395.7734075470337\"/><path class=\"edge section-edge-1 edge-depth-1\" d=\"M 875.4616433928477,271.62542575061207 L 945.930281149856,280.289699044838 L1016.3989189068643,288.95397233906397\"/><path class=\"edge section-edge-1 edge-depth-1\" d=\"M 874.8465431525713,265.1810927672519 L 946.4017261709341,242.0501031063822 L1017.956909189297,218.91911344551244\"/><path class=\"edge section-edge-1 edge-depth-1\" d=\"M 867.8693814012823,256.688676291951 L 883.7002630203081,228.24924675160432 L899.5311446393338,199.8098172112576\"/><path class=\"edge section-edge-1 edge-depth-0\" d=\"M 618.4633191965884,296.3972073860103 L 732.0634036259552,283.9152121179056 L845.663488055322,271.4332168498009\"/><path class=\"edge section-edge-2 edge-depth-1\" d=\"M 397.5252185962466,262.6006055350416 L 345.4234997765903,267.3900144708035 L293.321780956934,272.17942340656543\"/><path class=\"edge section-edge-2 edge-depth-1\" d=\"M 401.7524644082506,271.7299438763491 L 373.13932957600554,299.78906432757014 L344.52619474376047,327.84818477879116\"/><path class=\"edge section-edge-2 edge-depth-1\" d=\"M 398.80968545800306,255.01402209235857 L 349.1869607614674,232.42988045083382 L299.56423606493183,209.845738809309\"/><path class=\"edge section-edge-2 edge-depth-0\" d=\"M 588.8238118613002,295.198346433639 L 508.00764802383765,279.63151437814275 L427.1914841863751,264.0646823226465\"/><path class=\"edge section-edge-3 edge-depth-1\" d=\"M 807.4863029708913,340.93667538479923 L 857.8173696914005,340.2271336594626 L908.1484364119094,339.51759193412596\"/><path class=\"edge section-edge-3 edge-depth-1\" d=\"M 783.613506620389,329.05485265196376 L 760.9577231022029,298.18111788549174 L738.3019395840167,267.30738311901973\"/><path class=\"edge section-edge-3 edge-depth-1\" d=\"M 805.9790697244621,347.7044465146558 L 862.3644982782564,375.10596530693834 L918.749926832051,402.5074840992209\"/><path class=\"edge section-edge-3 edge-depth-0\" d=\"M 618.1771490636306,301.3725385672304 L 698.0204236747029,319.5918069548563 L777.8636982857752,337.8110753424822\"/><path class=\"edge section-edge-4 edge-depth-2\" d=\"M 531.7737120208874,109.69745101277789 L 498.2701072820456,83.1167985886216 L464.7665025432037,56.53614616446531\"/><path class=\"edge section-edge-4 edge-depth-2\" d=\"M 551.6599377819197,106.41799425351377 L 570.9989183943349,76.46013613829254 L590.33789900675,46.5022780230713\"/><path class=\"edge section-edge-4 edge-depth-1\" d=\"M 509.8323730099857,197.50031139906037 L 523.7198246257893,165.15203428829568 L537.6072762415929,132.80375717753094\"/><path class=\"edge section-edge-4 edge-depth-2\" d=\"M 348.23368028259085,134.74312895546086 L 326.60118406590914,106.10101461152348 L304.9686878492274,77.45890026758612\"/><path class=\"edge section-edge-4 edge-depth-2\" d=\"M 342.3065719235493,145.72468731597755 L 260.7352901344188,140.33960760008088 L179.1640083452883,134.95452788418422\"/><path class=\"edge section-edge-4 edge-depth-1\" d=\"M 490.18694475687164,205.23887632295117 L 430.59448567686087,178.99829281958924 L371.0020265968501,152.7577093162273\"/><path class=\"edge section-edge-4 edge-depth-0\" d=\"M 592.2401518665774,288.18571322085154 L 553.7340168612877,254.65964674004266 L515.2278818559979,221.1335802592338\"/><path class=\"edge section-edge-5 edge-depth-1\" d=\"M 648.5095145745602,380.38473088101665 L 565.7985973450785,362.0053641848775 L483.08768011559687,343.6259974887384\"/><path class=\"edge section-edge-5 edge-depth-1\" d=\"M 665.3169599326845,398.48154055356576 L 669.820028424766,429.3596563799093 L674.3230969168474,460.2377722062529\"/><path class=\"edge section-edge-5 edge-depth-1\" d=\"M 676.688634515452,390.10144462274576 L 729.7672715441562,415.4438396751129 L782.8459085728604,440.78623472748\"/><path class=\"edge section-edge-5 edge-depth-0\" d=\"M 612.1238032298756,310.34574732397977 L 633.3527029585911,340.83702184979404 L654.5816026873065,371.3282963756083\"/><path class=\"edge section-edge-6 edge-depth-1\" d=\"M 681.6831899814335,181.35476542196557 L 687.3487168671733,149.00914040517418 L693.014243752913,116.6635153883828\"/><path class=\"edge section-edge-6 edge-depth-1\" d=\"M 692.734901347677,189.88804338230554 L 747.4156636541618,164.86499053320975 L802.0964259606466,139.84193768411396\"/><path class=\"edge section-edge-6 edge-depth-0\" d=\"M 612.4857820462532,285.98533657287834 L 641.3241520912317,247.0826641656696 L670.1625221362101,208.17999175846086\"/></g><g class=\"mindmap-nodes\"><g transform=\"translate(513.7654029943906, 279.13549718007914)\" class=\"mindmap-node section--1 section-root\"><g transform=\"translate(89.78765106201172, 18.9)\"><circle r=\"89.78765106201172\" class=\"node-bkg node-circle\" id=\"node-0\"/></g><g transform=\"translate(89.78765106201172, 5)\" text-anchor=\"middle\" dominant-baseline=\"middle\" alignment-baseline=\"middle\" dy=\"1em\"><g><rect class=\"background\"/><text y=\"-10.1\"><tspan dy=\"1.1em\" y=\"-0.1em\" x=\"0\" class=\"text-outer-tspan\"><tspan font-weight=\"normal\" class=\"text-inner-tspan\" font-style=\"normal\">Médicaments</tspan><tspan font-weight=\"normal\" class=\"text-inner-tspan\" font-style=\"normal\"> de</tspan><tspan font-weight=\"normal\" class=\"text-inner-tspan\" font-style=\"normal\"> l'HTA</tspan></tspan></text></g></g></g><g transform=\"translate(422.8118244919213, 386.4771354302858)\" class=\"mindmap-node section-0\"><g><path d=\"M0 32.8 v-27.799999999999997 q0,-5 5,-5 h93.90625 q5,0 5,5 v32.8 H0 Z\" class=\"node-bkg node-no-border\" id=\"node-1\"/><line y2=\"37.8\" x2=\"103.90625\" y1=\"37.8\" x1=\"0\" class=\"node-line-0\"/></g><g transform=\"translate(51.953125, 5)\" text-anchor=\"middle\" dominant-baseline=\"middle\" alignment-baseline=\"middle\" dy=\"1em\"><g><rect class=\"background\"/><text y=\"-10.1\"><tspan dy=\"1.1em\" y=\"-0.1em\" x=\"0\" class=\"text-outer-tspan\"><tspan font-weight=\"normal\" class=\"text-inner-tspan\" font-style=\"normal\">Diurétiques</tspan></tspan></text></g></g></g><g transform=\"translate(240.40626705380356, 385.0759579974157)\" class=\"mindmap-node section-0\"><g><path d=\"M0 32.8 v-27.799999999999997 q0,-5 5,-5 h101.53125 q5,0 5,5 v32.8 H0 Z\" class=\"node-bkg node-no-border\" id=\"node-2\"/><line y2=\"37.8\" x2=\"111.53125\" y1=\"37.8\" x1=\"0\" class=\"node-line-0\"/></g><g transform=\"translate(55.765625, 5)\" text-anchor=\"middle\" dominant-baseline=\"middle\" alignment-baseline=\"middle\" dy=\"1em\"><g><rect class=\"background\"/><text y=\"-10.1\"><tspan dy=\"1.1em\" y=\"-0.1em\" x=\"0\" class=\"text-outer-tspan\"><tspan font-weight=\"normal\" class=\"text-inner-tspan\" font-style=\"normal\">Thiazidiques</tspan></tspan></text></g></g></g><g transform=\"translate(15, 397.4471403290387)\" class=\"mindmap-node section-0\"><g><path d=\"M0 32.8 v-27.799999999999997 q0,-5 5,-5 h157.484375 q5,0 5,5 v32.8 H0 Z\" class=\"node-bkg node-no-border\" id=\"node-3\"/><line y2=\"37.8\" x2=\"167.484375\" y1=\"37.8\" x1=\"0\" class=\"node-line-0\"/></g><g transform=\"translate(83.7421875, 5)\" text-anchor=\"middle\" dominant-baseline=\"middle\" alignment-baseline=\"middle\" dy=\"1em\"><g><rect class=\"background\"/><text y=\"-10.1\"><tspan dy=\"1.1em\" y=\"-0.1em\" x=\"0\" class=\"text-outer-tspan\"><tspan font-weight=\"normal\" class=\"text-inner-tspan\" font-style=\"normal\">Hydrochlorothiazide</tspan></tspan></text></g></g></g><g transform=\"translate(116.24513121614899, 322.28578475407767)\" class=\"mindmap-node section-0\"><g><path d=\"M0 32.8 v-27.799999999999997 q0,-5 5,-5 h96.9375 q5,0 5,5 v32.8 H0 Z\" class=\"node-bkg node-no-border\" id=\"node-4\"/><line y2=\"37.8\" x2=\"106.9375\" y1=\"37.8\" x1=\"0\" class=\"node-line-0\"/></g><g transform=\"translate(53.46875, 5)\" text-anchor=\"middle\" dominant-baseline=\"middle\" alignment-baseline=\"middle\" dy=\"1em\"><g><rect class=\"background\"/><text y=\"-10.1\"><tspan dy=\"1.1em\" y=\"-0.1em\" x=\"0\" class=\"text-outer-tspan\"><tspan font-weight=\"normal\" class=\"text-inner-tspan\" font-style=\"normal\">Indapamide</tspan></tspan></text></g></g></g><g transform=\"translate(436.03360703536237, 483.28421438257067)\" class=\"mindmap-node section-0\"><g><path d=\"M0 32.8 v-27.799999999999997 q0,-5 5,-5 h162.671875 q5,0 5,5 v32.8 H0 Z\" class=\"node-bkg node-no-border\" id=\"node-5\"/><line y2=\"37.8\" x2=\"172.671875\" y1=\"37.8\" x1=\"0\" class=\"node-line-0\"/></g><g transform=\"translate(86.3359375, 5)\" text-anchor=\"middle\" dominant-baseline=\"middle\" alignment-baseline=\"middle\" dy=\"1em\"><g><rect class=\"background\"/><text y=\"-10.1\"><tspan dy=\"1.1em\" y=\"-0.1em\" x=\"0\" class=\"text-outer-tspan\"><tspan font-weight=\"normal\" class=\"text-inner-tspan\" font-style=\"normal\">Diurétiques</tspan><tspan font-weight=\"normal\" class=\"text-inner-tspan\" font-style=\"normal\"> de</tspan><tspan font-weight=\"normal\" class=\"text-inner-tspan\" font-style=\"normal\"> l'anse</tspan></tspan></text></g></g></g><g transform=\"translate(417.8063595359766, 567.730451942564)\" class=\"mindmap-node section-0\"><g><path d=\"M0 32.8 v-27.799999999999997 q0,-5 5,-5 h94.328125 q5,0 5,5 v32.8 H0 Z\" class=\"node-bkg node-no-border\" id=\"node-6\"/><line y2=\"37.8\" x2=\"104.328125\" y1=\"37.8\" x1=\"0\" class=\"node-line-0\"/></g><g transform=\"translate(52.1640625, 5)\" text-anchor=\"middle\" dominant-baseline=\"middle\" alignment-baseline=\"middle\" dy=\"1em\"><g><rect class=\"background\"/><text y=\"-10.1\"><tspan dy=\"1.1em\" y=\"-0.1em\" x=\"0\" class=\"text-outer-tspan\"><tspan font-weight=\"normal\" class=\"text-inner-tspan\" font-style=\"normal\">Furosémide</tspan></tspan></text></g></g></g><g transform=\"translate(570.0278599851952, 552.8678439307085)\" class=\"mindmap-node section-0\"><g><path d=\"M0 32.8 v-27.799999999999997 q0,-5 5,-5 h98.03125 q5,0 5,5 v32.8 H0 Z\" class=\"node-bkg node-no-border\" id=\"node-7\"/><line y2=\"37.8\" x2=\"108.03125\" y1=\"37.8\" x1=\"0\" class=\"node-line-0\"/></g><g transform=\"translate(54.015625, 5)\" text-anchor=\"middle\" dominant-baseline=\"middle\" alignment-baseline=\"middle\" dy=\"1em\"><g><rect class=\"background\"/><text y=\"-10.1\"><tspan dy=\"1.1em\" y=\"-0.1em\" x=\"0\" class=\"text-outer-tspan\"><tspan font-weight=\"normal\" class=\"text-inner-tspan\" font-style=\"normal\">Bumétanide</tspan></tspan></text></g></g></g><g transform=\"translate(210.59049938207312, 453.99072074352546)\" class=\"mindmap-node section-0\"><g><path d=\"M0 33.8 v-28.799999999999997 q0,-5 5,-5 h193.6875 q5,0 5,5 v33.8 H0 Z\" class=\"node-bkg node-no-border\" id=\"node-8\"/><line y2=\"38.8\" x2=\"203.6875\" y1=\"38.8\" x1=\"0\" class=\"node-line-0\"/></g><g transform=\"translate(101.84375, 5)\" text-anchor=\"middle\" dominant-baseline=\"middle\" alignment-baseline=\"middle\" dy=\"1em\"><g><rect class=\"background\"/><text y=\"-10.1\"><tspan dy=\"1.1em\" y=\"-0.1em\" x=\"0\" class=\"text-outer-tspan\"><tspan font-weight=\"normal\" class=\"text-inner-tspan\" font-style=\"normal\">Épargneurs</tspan><tspan font-weight=\"normal\" class=\"text-inner-tspan\" font-style=\"normal\"> de</tspan><tspan font-weight=\"normal\" class=\"text-inner-tspan\" font-style=\"normal\"> potassium</tspan></tspan></text></g></g></g><g transform=\"translate(230.74602978628315, 546.4636512739531)\" class=\"mindmap-node section-0\"><g><path d=\"M0 32.8 v-27.799999999999997 q0,-5 5,-5 h120.4375 q5,0 5,5 v32.8 H0 Z\" class=\"node-bkg node-no-border\" id=\"node-9\"/><line y2=\"37.8\" x2=\"130.4375\" y1=\"37.8\" x1=\"0\" class=\"node-line-0\"/></g><g transform=\"translate(65.21875, 5)\" text-anchor=\"middle\" dominant-baseline=\"middle\" alignment-baseline=\"middle\" dy=\"1em\"><g><rect class=\"background\"/><text y=\"-10.1\"><tspan dy=\"1.1em\" y=\"-0.1em\" x=\"0\" class=\"text-outer-tspan\"><tspan font-weight=\"normal\" class=\"text-inner-tspan\" font-style=\"normal\">Spironolactone</tspan></tspan></text></g></g></g><g transform=\"translate(81.46196674342826, 501.8937365120297)\" class=\"mindmap-node section-0\"><g><path d=\"M0 33.8 v-28.799999999999997 q0,-5 5,-5 h92.46875 q5,0 5,5 v33.8 H0 Z\" class=\"node-bkg node-no-border\" id=\"node-10\"/><line y2=\"38.8\" x2=\"102.46875\" y1=\"38.8\" x1=\"0\" class=\"node-line-0\"/></g><g transform=\"translate(51.234375, 5)\" text-anchor=\"middle\" dominant-baseline=\"middle\" alignment-baseline=\"middle\" dy=\"1em\"><g><rect class=\"background\"/><text y=\"-10.1\"><tspan dy=\"1.1em\" y=\"-0.1em\" x=\"0\" class=\"text-outer-tspan\"><tspan font-weight=\"normal\" class=\"text-inner-tspan\" font-style=\"normal\">Éplérénone</tspan></tspan></text></g></g></g><g transform=\"translate(794.1831281955081, 250.89492705573204)\" class=\"mindmap-node section-1\"><g><path d=\"M0 32.8 v-27.799999999999997 q0,-5 5,-5 h122.78125 q5,0 5,5 v32.8 H0 Z\" class=\"node-bkg node-no-border\" id=\"node-11\"/><line y2=\"37.8\" x2=\"132.78125\" y1=\"37.8\" x1=\"0\" class=\"node-line-1\"/></g><g transform=\"translate(66.390625, 5)\" text-anchor=\"middle\" dominant-baseline=\"middle\" alignment-baseline=\"middle\" dy=\"1em\"><g><rect class=\"background\"/><text y=\"-10.1\"><tspan dy=\"1.1em\" y=\"-0.1em\" x=\"0\" class=\"text-outer-tspan\"><tspan font-weight=\"normal\" class=\"text-inner-tspan\" font-style=\"normal\">Bêta-bloquants</tspan></tspan></text></g></g></g><g transform=\"translate(990.7387515480516, 271.884471033944)\" class=\"mindmap-node section-1\"><g><path d=\"M0 32.8 v-27.799999999999997 q0,-5 5,-5 h71.09611511230469 q5,0 5,5 v32.8 H0 Z\" class=\"node-bkg node-no-border\" id=\"node-12\"/><line y2=\"37.8\" x2=\"81.09611511230469\" y1=\"37.8\" x1=\"0\" class=\"node-line-1\"/></g><g transform=\"translate(40.548057556152344, 5)\" text-anchor=\"middle\" dominant-baseline=\"middle\" alignment-baseline=\"middle\" dy=\"1em\"><g><rect class=\"background\"/><text y=\"-10.1\"><tspan dy=\"1.1em\" y=\"-0.1em\" x=\"0\" class=\"text-outer-tspan\"><tspan font-weight=\"normal\" class=\"text-inner-tspan\" font-style=\"normal\">Aténolol</tspan></tspan></text></g></g></g><g transform=\"translate(982.4576196785868, 195.40527915703228)\" class=\"mindmap-node section-1\"><g><path d=\"M0 32.8 v-27.799999999999997 q0,-5 5,-5 h89.54415893554688 q5,0 5,5 v32.8 H0 Z\" class=\"node-bkg node-no-border\" id=\"node-13\"/><line y2=\"37.8\" x2=\"99.54415893554688\" y1=\"37.8\" x1=\"0\" class=\"node-line-1\"/></g><g transform=\"translate(49.77207946777344, 5)\" text-anchor=\"middle\" dominant-baseline=\"middle\" alignment-baseline=\"middle\" dy=\"1em\"><g><rect class=\"background\"/><text y=\"-10.1\"><tspan dy=\"1.1em\" y=\"-0.1em\" x=\"0\" class=\"text-outer-tspan\"><tspan font-weight=\"normal\" class=\"text-inner-tspan\" font-style=\"normal\">Métoprolol</tspan></tspan></text></g></g></g><g transform=\"translate(859.5506955746002, 167.80356644747656)\" class=\"mindmap-node section-1\"><g><path d=\"M0 32.8 v-27.799999999999997 q0,-5 5,-5 h84.55215454101562 q5,0 5,5 v32.8 H0 Z\" class=\"node-bkg node-no-border\" id=\"node-14\"/><line y2=\"37.8\" x2=\"94.55215454101562\" y1=\"37.8\" x1=\"0\" class=\"node-line-1\"/></g><g transform=\"translate(47.27607727050781, 5)\" text-anchor=\"middle\" dominant-baseline=\"middle\" alignment-baseline=\"middle\" dy=\"1em\"><g><rect class=\"background\"/><text y=\"-10.1\"><tspan dy=\"1.1em\" y=\"-0.1em\" x=\"0\" class=\"text-outer-tspan\"><tspan font-weight=\"normal\" class=\"text-inner-tspan\" font-style=\"normal\">Bisoprolol</tspan></tspan></text></g></g></g><g transform=\"translate(381.4182280142223, 237.32753157620638)\" class=\"mindmap-node section-2\"><g><rect width=\"62.08802795410156\" ry=\"20\" rx=\"20\" height=\"47.8\" class=\"node-bkg node-rounded-rect\" id=\"node-15\"/></g><g transform=\"translate(31.04401397705078, 10)\" text-anchor=\"middle\" dominant-baseline=\"middle\" alignment-baseline=\"middle\" dy=\"1em\"><g><rect class=\"background\"/><text y=\"-10.1\"><tspan dy=\"1.1em\" y=\"-0.1em\" x=\"0\" class=\"text-outer-tspan\"><tspan font-weight=\"normal\" class=\"text-inner-tspan\" font-style=\"normal\">IEC</tspan></tspan></text></g></g></g><g transform=\"translate(234.84469561122393, 254.65249736540065)\" class=\"mindmap-node section-2\"><g><path d=\"M0 32.8 v-27.799999999999997 q0,-5 5,-5 h77.08012390136719 q5,0 5,5 v32.8 H0 Z\" class=\"node-bkg node-no-border\" id=\"node-16\"/><line y2=\"37.8\" x2=\"87.08012390136719\" y1=\"37.8\" x1=\"0\" class=\"node-line-2\"/></g><g transform=\"translate(43.540061950683594, 5)\" text-anchor=\"middle\" dominant-baseline=\"middle\" alignment-baseline=\"middle\" dy=\"1em\"><g><rect class=\"background\"/><text y=\"-10.1\"><tspan dy=\"1.1em\" y=\"-0.1em\" x=\"0\" class=\"text-outer-tspan\"><tspan font-weight=\"normal\" class=\"text-inner-tspan\" font-style=\"normal\">Captopril</tspan></tspan></text></g></g></g><g transform=\"translate(291.40436119149973, 318.9505970789339)\" class=\"mindmap-node section-2\"><g><path d=\"M0 33.8 v-28.799999999999997 q0,-5 5,-5 h74.82411193847656 q5,0 5,5 v33.8 H0 Z\" class=\"node-bkg node-no-border\" id=\"node-17\"/><line y2=\"38.8\" x2=\"84.82411193847656\" y1=\"38.8\" x1=\"0\" class=\"node-line-2\"/></g><g transform=\"translate(42.41205596923828, 5)\" text-anchor=\"middle\" dominant-baseline=\"middle\" alignment-baseline=\"middle\" dy=\"1em\"><g><rect class=\"background\"/><text y=\"-10.1\"><tspan dy=\"1.1em\" y=\"-0.1em\" x=\"0\" class=\"text-outer-tspan\"><tspan font-weight=\"normal\" class=\"text-inner-tspan\" font-style=\"normal\">Énalapril</tspan></tspan></text></g></g></g><g transform=\"translate(245.0916264310759, 184.73222932546116)\" class=\"mindmap-node section-2\"><g><path d=\"M0 32.8 v-27.799999999999997 q0,-5 5,-5 h71.64010620117188 q5,0 5,5 v32.8 H0 Z\" class=\"node-bkg node-no-border\" id=\"node-18\"/><line y2=\"37.8\" x2=\"81.64010620117188\" y1=\"37.8\" x1=\"0\" class=\"node-line-2\"/></g><g transform=\"translate(40.82005310058594, 5)\" text-anchor=\"middle\" dominant-baseline=\"middle\" alignment-baseline=\"middle\" dy=\"1em\"><g><rect class=\"background\"/><text y=\"-10.1\"><tspan dy=\"1.1em\" y=\"-0.1em\" x=\"0\" class=\"text-outer-tspan\"><tspan font-weight=\"normal\" class=\"text-inner-tspan\" font-style=\"normal\">Ramipril</tspan></tspan></text></g></g></g><g transform=\"translate(751.6284182930035, 317.24811672963347)\" class=\"mindmap-node section-3\"><g><rect width=\"81.71875\" ry=\"20\" rx=\"20\" height=\"47.8\" class=\"node-bkg node-rounded-rect\" id=\"node-19\"/></g><g transform=\"translate(40.859375, 10)\" text-anchor=\"middle\" dominant-baseline=\"middle\" alignment-baseline=\"middle\" dy=\"1em\"><g><rect class=\"background\"/><text y=\"-10.1\"><tspan dy=\"1.1em\" y=\"-0.1em\" x=\"0\" class=\"text-outer-tspan\"><tspan font-weight=\"normal\" class=\"text-inner-tspan\" font-style=\"normal\">ARA</tspan><tspan font-weight=\"normal\" class=\"text-inner-tspan\" font-style=\"normal\"> II</tspan></tspan></text></g></g></g><g transform=\"translate(881.7172585897972, 320.40615058929177)\" class=\"mindmap-node section-3\"><g><path d=\"M0 32.8 v-27.799999999999997 q0,-5 5,-5 h72.859375 q5,0 5,5 v32.8 H0 Z\" class=\"node-bkg node-no-border\" id=\"node-20\"/><line y2=\"37.8\" x2=\"82.859375\" y1=\"37.8\" x1=\"0\" class=\"node-line-3\"/></g><g transform=\"translate(41.4296875, 5)\" text-anchor=\"middle\" dominant-baseline=\"middle\" alignment-baseline=\"middle\" dy=\"1em\"><g><rect class=\"background\"/><text y=\"-10.1\"><tspan dy=\"1.1em\" y=\"-0.1em\" x=\"0\" class=\"text-outer-tspan\"><tspan font-weight=\"normal\" class=\"text-inner-tspan\" font-style=\"normal\">Losartan</tspan></tspan></text></g></g></g><g transform=\"translate(685.7089029114022, 236.31411904135007)\" class=\"mindmap-node section-3\"><g><path d=\"M0 32.8 v-27.799999999999997 q0,-5 5,-5 h77.4375 q5,0 5,5 v32.8 H0 Z\" class=\"node-bkg node-no-border\" id=\"node-21\"/><line y2=\"37.8\" x2=\"87.4375\" y1=\"37.8\" x1=\"0\" class=\"node-line-3\"/></g><g transform=\"translate(43.71875, 5)\" text-anchor=\"middle\" dominant-baseline=\"middle\" alignment-baseline=\"middle\" dy=\"1em\"><g><rect class=\"background\"/><text y=\"-10.1\"><tspan dy=\"1.1em\" y=\"-0.1em\" x=\"0\" class=\"text-outer-tspan\"><tspan font-weight=\"normal\" class=\"text-inner-tspan\" font-style=\"normal\">Valsartan</tspan></tspan></text></g></g></g><g transform=\"translate(876.6865157635095, 390.16381388424327)\" class=\"mindmap-node section-3\"><g><path d=\"M0 32.8 v-27.799999999999997 q0,-5 5,-5 h101.109375 q5,0 5,5 v32.8 H0 Z\" class=\"node-bkg node-no-border\" id=\"node-22\"/><line y2=\"37.8\" x2=\"111.109375\" y1=\"37.8\" x1=\"0\" class=\"node-line-3\"/></g><g transform=\"translate(55.5546875, 5)\" text-anchor=\"middle\" dominant-baseline=\"middle\" alignment-baseline=\"middle\" dy=\"1em\"><g><rect class=\"background\"/><text y=\"-10.1\"><tspan dy=\"1.1em\" y=\"-0.1em\" x=\"0\" class=\"text-outer-tspan\"><tspan font-weight=\"normal\" class=\"text-inner-tspan\" font-style=\"normal\">Candésartan</tspan></tspan></text></g></g></g><g transform=\"translate(418.3602921661731, 192.38379630000622)\" class=\"mindmap-node section-4\"><g><path d=\"M0 32.8 v-27.799999999999997 q0,-5 5,-5 h161.109375 q5,0 5,5 v32.8 H0 Z\" class=\"node-bkg node-no-border\" id=\"node-23\"/><line y2=\"37.8\" x2=\"171.109375\" y1=\"37.8\" x1=\"0\" class=\"node-line-4\"/></g><g transform=\"translate(85.5546875, 5)\" text-anchor=\"middle\" dominant-baseline=\"middle\" alignment-baseline=\"middle\" dy=\"1em\"><g><rect class=\"background\"/><text y=\"-10.1\"><tspan dy=\"1.1em\" y=\"-0.1em\" x=\"0\" class=\"text-outer-tspan\"><tspan font-weight=\"normal\" class=\"text-inner-tspan\" font-style=\"normal\">Inhibiteurs</tspan><tspan font-weight=\"normal\" class=\"text-inner-tspan\" font-style=\"normal\"> calciques</tspan></tspan></text></g></g></g><g transform=\"translate(471.4465445854055, 100.12027227658507)\" class=\"mindmap-node section-4\"><g><path d=\"M0 32.8 v-27.799999999999997 q0,-5 5,-5 h134.15625 q5,0 5,5 v32.8 H0 Z\" class=\"node-bkg node-no-border\" id=\"node-24\"/><line y2=\"37.8\" x2=\"144.15625\" y1=\"37.8\" x1=\"0\" class=\"node-line-4\"/></g><g transform=\"translate(72.078125, 5)\" text-anchor=\"middle\" dominant-baseline=\"middle\" alignment-baseline=\"middle\" dy=\"1em\"><g><rect class=\"background\"/><text y=\"-10.1\"><tspan dy=\"1.1em\" y=\"-0.1em\" x=\"0\" class=\"text-outer-tspan\"><tspan font-weight=\"normal\" class=\"text-inner-tspan\" font-style=\"normal\">Dihydropyridines</tspan></tspan></text></g></g></g><g transform=\"translate(401.4999199786857, 28.31332490065813)\" class=\"mindmap-node section-4\"><g><path d=\"M0 32.8 v-27.799999999999997 q0,-5 5,-5 h93.03125 q5,0 5,5 v32.8 H0 Z\" class=\"node-bkg node-no-border\" id=\"node-25\"/><line y2=\"37.8\" x2=\"103.03125\" y1=\"37.8\" x1=\"0\" class=\"node-line-4\"/></g><g transform=\"translate(51.515625, 5)\" text-anchor=\"middle\" dominant-baseline=\"middle\" alignment-baseline=\"middle\" dy=\"1em\"><g><rect class=\"background\"/><text y=\"-10.1\"><tspan dy=\"1.1em\" y=\"-0.1em\" x=\"0\" class=\"text-outer-tspan\"><tspan font-weight=\"normal\" class=\"text-inner-tspan\" font-style=\"normal\">Amlodipine</tspan></tspan></text></g></g></g><g transform=\"translate(550.6919172032642, 15)\" class=\"mindmap-node section-4\"><g><path d=\"M0 32.8 v-27.799999999999997 q0,-5 5,-5 h85.5625 q5,0 5,5 v32.8 H0 Z\" class=\"node-bkg node-no-border\" id=\"node-26\"/><line y2=\"37.8\" x2=\"95.5625\" y1=\"37.8\" x1=\"0\" class=\"node-line-4\"/></g><g transform=\"translate(47.78125, 5)\" text-anchor=\"middle\" dominant-baseline=\"middle\" alignment-baseline=\"middle\" dy=\"1em\"><g><rect class=\"background\"/><text y=\"-10.1\"><tspan dy=\"1.1em\" y=\"-0.1em\" x=\"0\" class=\"text-outer-tspan\"><tspan font-weight=\"normal\" class=\"text-inner-tspan\" font-style=\"normal\">Nifédipine</tspan></tspan></text></g></g></g><g transform=\"translate(267.51617918754863, 127.81278933917224)\" class=\"mindmap-node section-4\"><g><path d=\"M0 32.8 v-27.799999999999997 q0,-5 5,-5 h169.515625 q5,0 5,5 v32.8 H0 Z\" class=\"node-bkg node-no-border\" id=\"node-27\"/><line y2=\"37.8\" x2=\"179.515625\" y1=\"37.8\" x1=\"0\" class=\"node-line-4\"/></g><g transform=\"translate(89.7578125, 5)\" text-anchor=\"middle\" dominant-baseline=\"middle\" alignment-baseline=\"middle\" dy=\"1em\"><g><rect class=\"background\"/><text y=\"-10.1\"><tspan dy=\"1.1em\" y=\"-0.1em\" x=\"0\" class=\"text-outer-tspan\"><tspan font-weight=\"normal\" class=\"text-inner-tspan\" font-style=\"normal\">Non-dihydropyridines</tspan></tspan></text></g></g></g><g transform=\"translate(252.02212644426965, 46.58923988387472)\" class=\"mindmap-node section-4\"><g><path d=\"M0 32.8 v-27.799999999999997 q0,-5 5,-5 h77.8125 q5,0 5,5 v32.8 H0 Z\" class=\"node-bkg node-no-border\" id=\"node-28\"/><line y2=\"37.8\" x2=\"87.8125\" y1=\"37.8\" x1=\"0\" class=\"node-line-4\"/></g><g transform=\"translate(43.90625, 5)\" text-anchor=\"middle\" dominant-baseline=\"middle\" alignment-baseline=\"middle\" dy=\"1em\"><g><rect class=\"background\"/><text y=\"-10.1\"><tspan dy=\"1.1em\" y=\"-0.1em\" x=\"0\" class=\"text-outer-tspan\"><tspan font-weight=\"normal\" class=\"text-inner-tspan\" font-style=\"normal\">Diltiazem</tspan></tspan></text></g></g></g><g transform=\"translate(117.79252058812489, 115.06642586098951)\" class=\"mindmap-node section-4\"><g><path d=\"M0 32.8 v-27.799999999999997 q0,-5 5,-5 h82.80813598632812 q5,0 5,5 v32.8 H0 Z\" class=\"node-bkg node-no-border\" id=\"node-29\"/><line y2=\"37.8\" x2=\"92.80813598632812\" y1=\"37.8\" x1=\"0\" class=\"node-line-4\"/></g><g transform=\"translate(46.40406799316406, 5)\" text-anchor=\"middle\" dominant-baseline=\"middle\" alignment-baseline=\"middle\" dy=\"1em\"><g><rect class=\"background\"/><text y=\"-10.1\"><tspan dy=\"1.1em\" y=\"-0.1em\" x=\"0\" class=\"text-outer-tspan\"><tspan font-weight=\"normal\" class=\"text-inner-tspan\" font-style=\"normal\">Vérapamil</tspan></tspan></text></g></g></g><g transform=\"translate(553.1553578422252, 364.738546519509)\" class=\"mindmap-node section-5\"><g><path d=\"M0 32.8 v-27.799999999999997 q0,-5 5,-5 h209.99398803710938 q5,0 5,5 v32.8 H0 Z\" class=\"node-bkg node-no-border\" id=\"node-30\"/><line y2=\"37.8\" x2=\"219.99398803710938\" y1=\"37.8\" x1=\"0\" class=\"node-line-5\"/></g><g transform=\"translate(109.99699401855469, 5)\" text-anchor=\"middle\" dominant-baseline=\"middle\" alignment-baseline=\"middle\" dy=\"1em\"><g><rect class=\"background\"/><text y=\"-10.1\"><tspan dy=\"1.1em\" y=\"-0.1em\" x=\"0\" class=\"text-outer-tspan\"><tspan font-weight=\"normal\" class=\"text-inner-tspan\" font-style=\"normal\">Antihypertenseurs</tspan><tspan font-weight=\"normal\" class=\"text-inner-tspan\" font-style=\"normal\"> centraux</tspan></tspan></text></g></g></g><g transform=\"translate(415.61671782937725, 321.4721818502461)\" class=\"mindmap-node section-5\"><g><path d=\"M0 32.8 v-27.799999999999997 q0,-5 5,-5 h95.65625 q5,0 5,5 v32.8 H0 Z\" class=\"node-bkg node-no-border\" id=\"node-31\"/><line y2=\"37.8\" x2=\"105.65625\" y1=\"37.8\" x1=\"0\" class=\"node-line-5\"/></g><g transform=\"translate(52.828125, 5)\" text-anchor=\"middle\" dominant-baseline=\"middle\" alignment-baseline=\"middle\" dy=\"1em\"><g><rect class=\"background\"/><text y=\"-10.1\"><tspan dy=\"1.1em\" y=\"-0.1em\" x=\"0\" class=\"text-outer-tspan\"><tspan font-weight=\"normal\" class=\"text-inner-tspan\" font-style=\"normal\">Méthyldopa</tspan></tspan></text></g></g></g><g transform=\"translate(632.0736424887521, 456.1807662403097)\" class=\"mindmap-node section-5\"><g><path d=\"M0 32.8 v-27.799999999999997 q0,-5 5,-5 h78.828125 q5,0 5,5 v32.8 H0 Z\" class=\"node-bkg node-no-border\" id=\"node-32\"/><line y2=\"37.8\" x2=\"88.828125\" y1=\"37.8\" x1=\"0\" class=\"node-line-5\"/></g><g transform=\"translate(44.4140625, 5)\" text-anchor=\"middle\" dominant-baseline=\"middle\" alignment-baseline=\"middle\" dy=\"1em\"><g><rect class=\"background\"/><text y=\"-10.1\"><tspan dy=\"1.1em\" y=\"-0.1em\" x=\"0\" class=\"text-outer-tspan\"><tspan font-weight=\"normal\" class=\"text-inner-tspan\" font-style=\"normal\">Clonidine</tspan></tspan></text></g></g></g><g transform=\"translate(744.0384412275325, 428.3491328307168)\" class=\"mindmap-node section-5\"><g><path d=\"M0 32.8 v-27.799999999999997 q0,-5 5,-5 h94.6875 q5,0 5,5 v32.8 H0 Z\" class=\"node-bkg node-no-border\" id=\"node-33\"/><line y2=\"37.8\" x2=\"104.6875\" y1=\"37.8\" x1=\"0\" class=\"node-line-5\"/></g><g transform=\"translate(52.34375, 5)\" text-anchor=\"middle\" dominant-baseline=\"middle\" alignment-baseline=\"middle\" dy=\"1em\"><g><rect class=\"background\"/><text y=\"-10.1\"><tspan dy=\"1.1em\" y=\"-0.1em\" x=\"0\" class=\"text-outer-tspan\"><tspan font-weight=\"normal\" class=\"text-inner-tspan\" font-style=\"normal\">Moxonidine</tspan></tspan></text></g></g></g><g transform=\"translate(612.915562626061, 177.2298311512601)\" class=\"mindmap-node section-6\"><g><path d=\"M0 32.8 v-27.799999999999997 q0,-5 5,-5 h122.359375 q5,0 5,5 v32.8 H0 Z\" class=\"node-bkg node-no-border\" id=\"node-34\"/><line y2=\"37.8\" x2=\"132.359375\" y1=\"37.8\" x1=\"0\" class=\"node-line-6\"/></g><g transform=\"translate(66.1796875, 5)\" text-anchor=\"middle\" dominant-baseline=\"middle\" alignment-baseline=\"middle\" dy=\"1em\"><g><rect class=\"background\"/><text y=\"-10.1\"><tspan dy=\"1.1em\" y=\"-0.1em\" x=\"0\" class=\"text-outer-tspan\"><tspan font-weight=\"normal\" class=\"text-inner-tspan\" font-style=\"normal\">Vasodilatateurs</tspan></tspan></text></g></g></g><g transform=\"translate(642.9303086082855, 82.98844965908825)\" class=\"mindmap-node section-6\"><g><path d=\"M0 32.8 v-27.799999999999997 q0,-5 5,-5 h95.34375 q5,0 5,5 v32.8 H0 Z\" class=\"node-bkg node-no-border\" id=\"node-35\"/><line y2=\"37.8\" x2=\"105.34375\" y1=\"37.8\" x1=\"0\" class=\"node-line-6\"/></g><g transform=\"translate(52.671875, 5)\" text-anchor=\"middle\" dominant-baseline=\"middle\" alignment-baseline=\"middle\" dy=\"1em\"><g><rect class=\"background\"/><text y=\"-10.1\"><tspan dy=\"1.1em\" y=\"-0.1em\" x=\"0\" class=\"text-outer-tspan\"><tspan font-weight=\"normal\" class=\"text-inner-tspan\" font-style=\"normal\">Hydralazine</tspan></tspan></text></g></g></g><g transform=\"translate(772.2920082735711, 114.70014991515939)\" class=\"mindmap-node section-6\"><g><path d=\"M0 32.8 v-27.799999999999997 q0,-5 5,-5 h76.88813781738281 q5,0 5,5 v32.8 H0 Z\" class=\"node-bkg node-no-border\" id=\"node-36\"/><line y2=\"37.8\" x2=\"86.88813781738281\" y1=\"37.8\" x1=\"0\" class=\"node-line-6\"/></g><g transform=\"translate(43.444068908691406, 5)\" text-anchor=\"middle\" dominant-baseline=\"middle\" alignment-baseline=\"middle\" dy=\"1em\"><g><rect class=\"background\"/><text y=\"-10.1\"><tspan dy=\"1.1em\" y=\"-0.1em\" x=\"0\" class=\"text-outer-tspan\"><tspan font-weight=\"normal\" class=\"text-inner-tspan\" font-style=\"normal\">Minoxidil</tspan></tspan></text></g></g></g></g></svg>"
          },
          "metadata": {},
          "execution_count": 5
        }
      ]
    },
    {
      "cell_type": "markdown",
      "source": [
        "# Génération à partir de mermaid.ink  \n",
        "(execution indépendante pour chaque code)\n"
      ],
      "metadata": {
        "id": "Xyvpar0zSOQY"
      }
    },
    {
      "cell_type": "markdown",
      "source": [
        "##SVG - Haute Qualité"
      ],
      "metadata": {
        "id": "gjKql3QbnSie"
      }
    },
    {
      "cell_type": "code",
      "source": [
        "def mermaid_ink_string(graph):\n",
        "  graphbytes = graph.encode(\"utf-8\")\n",
        "  base64_bytes = base64.b64encode(graphbytes)\n",
        "  base64_string = base64_bytes.decode(\"utf-8\")\n",
        "  string = base64_string\n",
        "  return string\n",
        "\n",
        "string = mermaid_ink_string(mermaid_code)\n",
        "url_image_svg = \"https://mermaid.ink/svg/\" + string\n",
        "print(\"lien vers l'image mermaid : \" + url_image_svg)\n",
        "\n",
        "filename = string[:8] + \".svg\"\n",
        "\n",
        "response = requests.get(url_image_svg)\n",
        "if response.status_code == 200:\n",
        "  # Enregistrer l'image SVG dans un fichier\n",
        "  with open(filename, \"wb\") as file:\n",
        "    file.write(response.content)\n",
        "  print(f\"L'image SVG a été enregistrée sous le nom '{filename}'\")\n",
        "else:\n",
        "  print(\"Erreur lors du téléchargement de l'image SVG\")\n",
        "SVG(response.text)"
      ],
      "metadata": {
        "id": "e4OzCpdReEZQ"
      },
      "execution_count": null,
      "outputs": []
    },
    {
      "cell_type": "markdown",
      "source": [
        "##PNG - Qualité basse"
      ],
      "metadata": {
        "id": "p8cJkVggiiZ4"
      }
    },
    {
      "cell_type": "code",
      "source": [
        "def mermaid_ink_string(graph):\n",
        "  graphbytes = graph.encode(\"utf-8\")\n",
        "  base64_bytes = base64.b64encode(graphbytes)\n",
        "  base64_string = base64_bytes.decode(\"utf-8\")\n",
        "  string = base64_string\n",
        "  return string\n",
        "\n",
        "string = mermaid_ink_string(mermaid_code)\n",
        "\n",
        "url_image_png = \"https://mermaid.ink/img/\" + string\n",
        "print(\"lien vers l'image mermaid : \" + url_image_png)\n",
        "\n",
        "filename = string[:8] + \".png\"\n",
        "\n",
        "response = requests.get(url_image_png)\n",
        "\n",
        "display(Image(url=url_image_png))\n",
        "\n",
        "response = requests.get(url_image_png)\n",
        "if response.status_code == 200:\n",
        "  # Enregistrer l'image SVG dans un fichier\n",
        "  with open(filename, \"wb\") as file:\n",
        "    file.write(response.content)\n",
        "  print(f\"L'image SVG a été enregistrée sous le nom '{filename}'\")\n",
        "else:\n",
        "  print(\"Erreur lors du téléchargement de l'image PNG\")"
      ],
      "metadata": {
        "id": "-bAM9KT3inie"
      },
      "execution_count": null,
      "outputs": []
    }
  ]
}