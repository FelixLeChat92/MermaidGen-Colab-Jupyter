{
  "nbformat": 4,
  "nbformat_minor": 0,
  "metadata": {
    "colab": {
      "provenance": [],
      "authorship_tag": "ABX9TyMsqqKlL1BMxWiji4Akjnv3",
      "include_colab_link": true
    },
    "kernelspec": {
      "name": "python3",
      "display_name": "Python 3"
    },
    "language_info": {
      "name": "python"
    }
  },
  "cells": [
    {
      "cell_type": "markdown",
      "metadata": {
        "id": "view-in-github",
        "colab_type": "text"
      },
      "source": [
        "<a href=\"https://colab.research.google.com/github/FelixLeChat92/MermaidGen-Colab-Jupyter/blob/main/Mermaid_Gen.ipynb\" target=\"_parent\"><img src=\"https://colab.research.google.com/assets/colab-badge.svg\" alt=\"Open In Colab\"/></a>"
      ]
    },
    {
      "cell_type": "markdown",
      "source": [
        "# Génération de diagrammes Mermaid\n",
        "\n",
        "Ce notebook permet de générer des diagrammes Mermaid sous différents formats (SVG, PNG) et de les exporter. Il utilise les services en ligne [mermaid.live](https://mermaid.live/), [kroki.io](https://kroki.io/) et [mermaid.ink](https://mermaid.ink/) pour le rendu des diagrammes.\n",
        "\n",
        "## Table des matières\n",
        "\n",
        "- [Importation des librairies](#importation)\n",
        "- [Définition du diagramme Mermaid](#diagramme-mermaid)  \n",
        "- [Génération d'un lien d'édition mermaid.live](#lien-mermaid-live)\n",
        "- [Exportation en SVG avec kroki.io](#export-svg-kroki)  \n",
        "- [Exportation avec mermaid.ink](#export-mermaid-ink)\n",
        "  - [Format SVG](#export-svg-mermaid-ink)\n",
        "  - [Format PNG](#export-png-mermaid-ink)"
      ],
      "metadata": {
        "id": "p7M9BeQ1dHfB"
      }
    },
    {
      "cell_type": "markdown",
      "source": [
        "## Importation des librairies <a name=\"importation\"></a>\n",
        "\n",
        "Les librairies suivantes sont utilisées dans ce notebook :\n",
        "\n",
        "- `base64` : pour l'encodage et le décodage en base64\n",
        "- `zlib` : pour la compression et décompression de données\n",
        "- `json` : pour la manipulation de données JSON  \n",
        "- `requests` : pour effectuer des requêtes HTTP\n",
        "- `IPython.display` : pour afficher des images dans le notebook"
      ],
      "metadata": {
        "id": "KkQuk9jiu57P"
      }
    },
    {
      "cell_type": "code",
      "source": [
        "import base64\n",
        "import sys\n",
        "import json\n",
        "import zlib\n",
        "from IPython.display import SVG, Image\n",
        "import requests"
      ],
      "metadata": {
        "id": "iJaI8ywEatUE"
      },
      "execution_count": 1,
      "outputs": []
    },
    {
      "cell_type": "markdown",
      "source": [
        "## Définition du diagramme Mermaid <a name=\"diagramme-mermaid\"></a>\n",
        "\n",
        "Le code Mermaid du diagramme à générer est défini dans la variable `mermaid_code`.  \n",
        "Modifiez cette variable pour changer le diagramme. Vous pouvez utiliser les différents types de diagramme mermaid disponible, et des caractères spéciaux gérés par l'utf-8\n",
        "\n",
        "```mermaid\n",
        "mindmap\n",
        "  root((Racine))\n",
        "    Branche 1\n",
        "      Noeud 1\n",
        "      Noeud 2\n",
        "    Branche 2  \n",
        "      Noeud 3\n",
        "      Noeud 4\n",
        "```"
      ],
      "metadata": {
        "id": "tEVmStoBdKjy"
      }
    },
    {
      "cell_type": "code",
      "source": [
        "# Exemple d'utilisation\n",
        "mermaid_code = '''\n",
        "mindmap\n",
        "  root((Médicaments de l'HTA))\n",
        "    Diurétiques\n",
        "      Thiazidiques\n",
        "        Hydrochlorothiazide\n",
        "        Indapamide\n",
        "      Diurétiques de l'anse\n",
        "'''"
      ],
      "metadata": {
        "id": "JJxs5KNEanHW"
      },
      "execution_count": 3,
      "outputs": []
    },
    {
      "cell_type": "markdown",
      "source": [
        "## Génération d'un lien d'édition mermaid.live <a name=\"lien-mermaid-live\"></a>\n",
        "\n",
        "La fonction `genPakoLink` génère un lien vers l'éditeur en ligne [mermaid.live](https://mermaid.live/) prérempli avec le code Mermaid défini précédemment.\n",
        "\n",
        "Cliquez sur le lien généré pour ouvrir le diagramme dans mermaid.live et l'éditer interactivement."
      ],
      "metadata": {
        "id": "M1tiQL0FdSne"
      }
    },
    {
      "cell_type": "code",
      "execution_count": null,
      "metadata": {
        "id": "NNTyOMampQ8v"
      },
      "outputs": [],
      "source": [
        "def js_btoa(data):\n",
        "    return base64.b64encode(data)\n",
        "\n",
        "def pako_deflate(data):\n",
        "    compress = zlib.compressobj(9, zlib.DEFLATED, 15, 8, zlib.Z_DEFAULT_STRATEGY)\n",
        "    compressed_data = compress.compress(data)\n",
        "    compressed_data += compress.flush()\n",
        "    return compressed_data\n",
        "\n",
        "def genPakoLink(graphMarkdown: str):\n",
        "    jGraph = {\"code\": graphMarkdown, \"mermaid\": {\"theme\": \"standard\"}}\n",
        "    byteStr = json.dumps(jGraph).encode('utf-8')\n",
        "    deflated = pako_deflate(byteStr)\n",
        "    dEncode = js_btoa(deflated)\n",
        "    link_code = dEncode.decode('ascii')\n",
        "    return link_code\n",
        "\n",
        "mermaid_link = genPakoLink(mermaid_code)\n",
        "print(\"Lien mermaid.live : \")\n",
        "print('http://mermaid.live/edit#pako:' + mermaid_link)\n"
      ]
    },
    {
      "cell_type": "markdown",
      "source": [
        "## Exportation en SVG avec kroki.io <a name=\"export-svg-kroki\"></a>\n",
        "\n",
        "La fonction `encode_mermaid_to_kroki_url` génère un lien vers une image SVG du diagramme en utilisant le service [kroki.io](https://kroki.io/).\n",
        "\n",
        "Le code qui suit télécharge cette image SVG et l'enregistre dans le répertoire courant."
      ],
      "metadata": {
        "id": "GXSSiFHpc8SA"
      }
    },
    {
      "cell_type": "code",
      "source": [
        "def encode_mermaid_to_kroki_url(mermaid_diagram, compression_level=9):\n",
        "    # Compresser le diagramme Mermaid avec zlib\n",
        "    mermaid_compressed = zlib.compress(mermaid_diagram.encode('utf-8'), compression_level)\n",
        "\n",
        "    # Encoder le diagramme compressé en base64 URL-safe\n",
        "    mermaid_base64 = base64.urlsafe_b64encode(mermaid_compressed).decode('utf-8')\n",
        "\n",
        "    # Construire l'URL Kroki complète\n",
        "    kroki_url = f\"https://kroki.io/mermaid/svg/{mermaid_base64}\"\n",
        "\n",
        "    return kroki_url\n",
        "\n",
        "kroki_link = encode_mermaid_to_kroki_url(mermaid_code)\n",
        "print(kroki_link)\n",
        "\n",
        "string = kroki_link[-8:]\n",
        "filename = string + \".svg\"\n",
        "\n",
        "response = requests.get(kroki_link)\n",
        "if response.status_code == 200:\n",
        "  # Enregistrer l'image SVG dans un fichier\n",
        "  with open(filename, \"wb\") as file:\n",
        "    file.write(response.content)\n",
        "  print(f\"L'image SVG a été enregistrée sous le nom '{filename}'\")\n",
        "else:\n",
        "  print(\"Erreur lors du téléchargement de l'image SVG\")\n",
        "SVG(response.text)"
      ],
      "metadata": {
        "id": "PxcJHEnlSMI3"
      },
      "execution_count": null,
      "outputs": []
    },
    {
      "cell_type": "markdown",
      "source": [
        "## Exportation avec mermaid.ink <a name=\"export-mermaid-ink\"></a>"
      ],
      "metadata": {
        "id": "Xyvpar0zSOQY"
      }
    },
    {
      "cell_type": "markdown",
      "source": [
        "### Format SVG <a name=\"export-svg-mermaid-ink\"></a>\n",
        "\n",
        "Cette section génère une image SVG du diagramme avec [mermaid.ink](https://mermaid.ink/), l'affiche dans le notebook et l'enregistre dans un fichier."
      ],
      "metadata": {
        "id": "gjKql3QbnSie"
      }
    },
    {
      "cell_type": "code",
      "source": [
        "def mermaid_ink_string(graph):\n",
        "  graphbytes = graph.encode(\"utf-8\")\n",
        "  base64_bytes = base64.b64encode(graphbytes)\n",
        "  base64_string = base64_bytes.decode(\"utf-8\")\n",
        "  string = base64_string\n",
        "  return string\n",
        "\n",
        "string = mermaid_ink_string(mermaid_code)\n",
        "url_image_svg = \"https://mermaid.ink/svg/\" + string\n",
        "print(\"lien vers l'image mermaid : \" + url_image_svg)\n",
        "\n",
        "filename = string[:8] + \".svg\"\n",
        "\n",
        "response = requests.get(url_image_svg)\n",
        "if response.status_code == 200:\n",
        "  # Enregistrer l'image SVG dans un fichier\n",
        "  with open(filename, \"wb\") as file:\n",
        "    file.write(response.content)\n",
        "  print(f\"L'image SVG a été enregistrée sous le nom '{filename}'\")\n",
        "else:\n",
        "  print(\"Erreur lors du téléchargement de l'image SVG\")\n",
        "SVG(response.text)"
      ],
      "metadata": {
        "id": "e4OzCpdReEZQ"
      },
      "execution_count": null,
      "outputs": []
    },
    {
      "cell_type": "markdown",
      "source": [
        "##PNG - Qualité basse\n",
        "### Format PNG <a name=\"export-png-mermaid-ink\"></a>  \n",
        "\n",
        "Similaire à la section précédente mais génère une image PNG (qualité plus faible)."
      ],
      "metadata": {
        "id": "p8cJkVggiiZ4"
      }
    },
    {
      "cell_type": "code",
      "source": [
        "def mermaid_ink_string(graph):\n",
        "  graphbytes = graph.encode(\"utf-8\")\n",
        "  base64_bytes = base64.b64encode(graphbytes)\n",
        "  base64_string = base64_bytes.decode(\"utf-8\")\n",
        "  string = base64_string\n",
        "  return string\n",
        "\n",
        "string = mermaid_ink_string(mermaid_code)\n",
        "\n",
        "url_image_png = \"https://mermaid.ink/img/\" + string\n",
        "print(\"lien vers l'image mermaid : \" + url_image_png)\n",
        "\n",
        "filename = string[:8] + \".png\"\n",
        "\n",
        "response = requests.get(url_image_png)\n",
        "\n",
        "display(Image(url=url_image_png))\n",
        "\n",
        "response = requests.get(url_image_png)\n",
        "if response.status_code == 200:\n",
        "  # Enregistrer l'image SVG dans un fichier\n",
        "  with open(filename, \"wb\") as file:\n",
        "    file.write(response.content)\n",
        "  print(f\"L'image SVG a été enregistrée sous le nom '{filename}'\")\n",
        "else:\n",
        "  print(\"Erreur lors du téléchargement de l'image PNG\")"
      ],
      "metadata": {
        "id": "-bAM9KT3inie"
      },
      "execution_count": null,
      "outputs": []
    },
    {
      "cell_type": "markdown",
      "source": [
        "## Conclusion\n",
        "\n",
        "Ce notebook facilite la génération et l'exportation de diagrammes Mermaid sous différents formats. Vous pouvez l'adapter à vos besoins en modifiant le code Mermaid dans la variable `mermaid_code`.\n",
        "\n",
        "## Ressources\n",
        "\n",
        "- Documentation Mermaid : [https://mermaid.js.org/](https://mermaid.js.org/)\n",
        "- Éditeur en ligne mermaid.live : [https://mermaid.live/](https://mermaid.live/)\n",
        "- Service de rendu d'images kroki.io : [https://kroki.io/](https://kroki.io/)\n",
        "- Service mermaid.ink : [https://mermaid.ink/](https://mermaid.ink/)"
      ],
      "metadata": {
        "id": "BsSSCup9vk-t"
      }
    }
  ]
}