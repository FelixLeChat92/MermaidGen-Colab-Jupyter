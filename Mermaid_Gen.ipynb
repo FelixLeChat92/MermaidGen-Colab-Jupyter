{
  "nbformat": 4,
  "nbformat_minor": 0,
  "metadata": {
    "colab": {
      "provenance": [],
      "authorship_tag": "ABX9TyPHW4oMPUAJjccv+DGiYlkN",
      "include_colab_link": true
    },
    "kernelspec": {
      "name": "python3",
      "display_name": "Python 3"
    },
    "language_info": {
      "name": "python"
    }
  },
  "cells": [
    {
      "cell_type": "markdown",
      "metadata": {
        "id": "view-in-github",
        "colab_type": "text"
      },
      "source": [
        "<a href=\"https://colab.research.google.com/github/FelixLeChat92/MermaidGen-Colab-Jupyter/blob/main/Mermaid_Gen.ipynb\" target=\"_parent\"><img src=\"https://colab.research.google.com/assets/colab-badge.svg\" alt=\"Open In Colab\"/></a>"
      ]
    },
    {
      "cell_type": "code",
      "execution_count": null,
      "metadata": {
        "colab": {
          "base_uri": "https://localhost:8080/"
        },
        "id": "NNTyOMampQ8v",
        "outputId": "04c8f300-edc9-4152-fad7-66c80f0b6259"
      },
      "outputs": [
        {
          "output_type": "stream",
          "name": "stdout",
          "text": [
            "Lien mermaid.live :\n",
            "http://mermaid.live/edit#pako:eNpVj8sOgjAQRX9l0pUm8gMsTKQoGxJdsCssGhiYRvtIaWIM8O8W2Ohsz7k3dybW2g5ZCqw2g5eOoMprA/EugpNXY9BybCBJznOBAbQ1+JkhOxQWRrLOKTMcdz9bJeBTuWoIgZR5LjviW/5ucIZclNIF65pfUr3tDFehHhTr/wl5jKmb6GXay6SVHrj0UWEnYBq9lqqL4ycWCPX2xksNFNiyfAHve0Qm\n"
          ]
        }
      ],
      "source": [
        "import base64\n",
        "import json\n",
        "import zlib\n",
        "\n",
        "def js_btoa(data):\n",
        "    return base64.b64encode(data)\n",
        "\n",
        "def pako_deflate(data):\n",
        "    compress = zlib.compressobj(9, zlib.DEFLATED, 15, 8, zlib.Z_DEFAULT_STRATEGY)\n",
        "    compressed_data = compress.compress(data)\n",
        "    compressed_data += compress.flush()\n",
        "    return compressed_data\n",
        "\n",
        "def genPakoLink(graphMarkdown: str):\n",
        "    jGraph = {\"code\": graphMarkdown, \"mermaid\": {\"theme\": \"light\"}}\n",
        "    byteStr = json.dumps(jGraph).encode('utf-8')\n",
        "    deflated = pako_deflate(byteStr)\n",
        "    dEncode = js_btoa(deflated)\n",
        "    link = 'http://mermaid.live/edit#pako:' + dEncode.decode('ascii')\n",
        "    return link\n",
        "\n",
        "# Exemple d'utilisation\n",
        "mermaid_code = '''\n",
        "graph TD\n",
        "    A[Christmas] -->|Get money| B(Go shopping)\n",
        "    B --> C{Let me think}\n",
        "    C -->|One| D[Laptop]\n",
        "    C -->|Two| E[iPhone]\n",
        "    C -->|Three| F[fa:fa-car Car]\n",
        "'''\n",
        "\n",
        "mermaid_link = genPakoLink(mermaid_code)\n",
        "print(\"Lien mermaid.live :\")\n",
        "print(mermaid_link)"
      ]
    }
  ]
}