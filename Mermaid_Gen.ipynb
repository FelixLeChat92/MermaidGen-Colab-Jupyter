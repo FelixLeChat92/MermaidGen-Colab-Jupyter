{
  "nbformat": 4,
  "nbformat_minor": 0,
  "metadata": {
    "colab": {
      "provenance": [],
      "authorship_tag": "ABX9TyNOoEPqltV3jYGVaaZRK/Kc",
      "include_colab_link": true
    },
    "kernelspec": {
      "name": "python3",
      "display_name": "Python 3"
    },
    "language_info": {
      "name": "python"
    }
  },
  "cells": [
    {
      "cell_type": "markdown",
      "metadata": {
        "id": "view-in-github",
        "colab_type": "text"
      },
      "source": [
        "<a href=\"https://colab.research.google.com/github/FelixLeChat92/MermaidGen-Colab-Jupyter/blob/main/Mermaid_Gen.ipynb\" target=\"_parent\"><img src=\"https://colab.research.google.com/assets/colab-badge.svg\" alt=\"Open In Colab\"/></a>"
      ]
    },
    {
      "cell_type": "markdown",
      "source": [
        "#Importation\n",
        "(execution obligatoire)"
      ],
      "metadata": {
        "id": "p7M9BeQ1dHfB"
      }
    },
    {
      "cell_type": "code",
      "source": [
        "import base64\n",
        "import sys\n",
        "import json\n",
        "import zlib\n",
        "from IPython.display import SVG, Image\n",
        "import requests"
      ],
      "metadata": {
        "id": "iJaI8ywEatUE"
      },
      "execution_count": 1,
      "outputs": []
    },
    {
      "cell_type": "markdown",
      "source": [
        "#Section à modifier en fonction du diagramme\n",
        "(execution obligatoire)"
      ],
      "metadata": {
        "id": "tEVmStoBdKjy"
      }
    },
    {
      "cell_type": "code",
      "source": [
        "# Exemple d'utilisation\n",
        "mermaid_code = '''\n",
        "mindmap\n",
        "  root((Médicaments de l'HTA))\n",
        "    Diurétiques\n",
        "      Thiazidiques\n",
        "        Hydrochlorothiazide\n",
        "        Indapamide\n",
        "      Diurétiques de l'anse\n",
        "        Furosémide\n",
        "        Bumétanide\n",
        "      Épargneurs de potassium\n",
        "        Spironolactone\n",
        "        Éplérénone\n",
        "    Bêta-bloquants\n",
        "      Aténolol\n",
        "      Métoprolol\n",
        "      Bisoprolol\n",
        "    Inhibiteurs de l'enzyme de conversion (IEC)\n",
        "      Captopril\n",
        "      Énalapril\n",
        "      Ramipril\n",
        "    Antagonistes des récepteurs de l'angiotensine II (ARA II)\n",
        "      Losartan\n",
        "      Valsartan\n",
        "      Candésartan\n",
        "    Inhibiteurs calciques\n",
        "      Dihydropyridines\n",
        "        Amlodipine\n",
        "        Nifédipine\n",
        "      Non-dihydropyridines\n",
        "        Diltiazem\n",
        "        Vérapamil\n",
        "    Antihypertenseurs centraux\n",
        "      Méthyldopa\n",
        "      Clonidine\n",
        "      Moxonidine\n",
        "    Vasodilatateurs\n",
        "      Hydralazine\n",
        "      Minoxidil\n",
        "'''"
      ],
      "metadata": {
        "id": "JJxs5KNEanHW"
      },
      "execution_count": 3,
      "outputs": []
    },
    {
      "cell_type": "markdown",
      "source": [
        "#Génération du lien mermaid.live (éditeur en ligne)\n",
        "(execution indépendante)"
      ],
      "metadata": {
        "id": "M1tiQL0FdSne"
      }
    },
    {
      "cell_type": "code",
      "execution_count": null,
      "metadata": {
        "id": "NNTyOMampQ8v"
      },
      "outputs": [],
      "source": [
        "def js_btoa(data):\n",
        "    return base64.b64encode(data)\n",
        "\n",
        "def pako_deflate(data):\n",
        "    compress = zlib.compressobj(9, zlib.DEFLATED, 15, 8, zlib.Z_DEFAULT_STRATEGY)\n",
        "    compressed_data = compress.compress(data)\n",
        "    compressed_data += compress.flush()\n",
        "    return compressed_data\n",
        "\n",
        "def genPakoLink(graphMarkdown: str):\n",
        "    jGraph = {\"code\": graphMarkdown, \"mermaid\": {\"theme\": \"standard\"}}\n",
        "    byteStr = json.dumps(jGraph).encode('utf-8')\n",
        "    deflated = pako_deflate(byteStr)\n",
        "    dEncode = js_btoa(deflated)\n",
        "    link_code = dEncode.decode('ascii')\n",
        "    return link_code\n",
        "\n",
        "mermaid_link = genPakoLink(mermaid_code)\n",
        "print(\"Lien mermaid.live : \")\n",
        "print('http://mermaid.live/edit#pako:' + mermaid_link)\n"
      ]
    },
    {
      "cell_type": "markdown",
      "source": [
        "#Génération à partir de kroki.io (SVG, qualité haute)\n",
        "Execution indépendante : Génération et enregistrement dans /content/\n",
        "\n",
        "\n"
      ],
      "metadata": {
        "id": "GXSSiFHpc8SA"
      }
    },
    {
      "cell_type": "code",
      "source": [
        "def encode_mermaid_to_kroki_url(mermaid_diagram, compression_level=9):\n",
        "    # Compresser le diagramme Mermaid avec zlib\n",
        "    mermaid_compressed = zlib.compress(mermaid_diagram.encode('utf-8'), compression_level)\n",
        "\n",
        "    # Encoder le diagramme compressé en base64 URL-safe\n",
        "    mermaid_base64 = base64.urlsafe_b64encode(mermaid_compressed).decode('utf-8')\n",
        "\n",
        "    # Construire l'URL Kroki complète\n",
        "    kroki_url = f\"https://kroki.io/mermaid/svg/{mermaid_base64}\"\n",
        "\n",
        "    return kroki_url\n",
        "\n",
        "kroki_link = encode_mermaid_to_kroki_url(mermaid_code)\n",
        "print(kroki_link)\n",
        "\n",
        "string = kroki_link[-8:]\n",
        "filename = string[:8] + \".svg\"\n",
        "\n",
        "response = requests.get(kroki_link)\n",
        "if response.status_code == 200:\n",
        "  # Enregistrer l'image SVG dans un fichier\n",
        "  with open(filename, \"wb\") as file:\n",
        "    file.write(response.content)\n",
        "  print(f\"L'image SVG a été enregistrée sous le nom '{filename}'\")\n",
        "else:\n",
        "  print(\"Erreur lors du téléchargement de l'image SVG\")\n",
        "SVG(response.text)"
      ],
      "metadata": {
        "id": "PxcJHEnlSMI3"
      },
      "execution_count": null,
      "outputs": []
    },
    {
      "cell_type": "markdown",
      "source": [
        "# Génération à partir de mermaid.ink  \n",
        "Execution indépendante : Génération et enregistrement dans /content/\n"
      ],
      "metadata": {
        "id": "Xyvpar0zSOQY"
      }
    },
    {
      "cell_type": "markdown",
      "source": [
        "##SVG - Haute Qualité"
      ],
      "metadata": {
        "id": "gjKql3QbnSie"
      }
    },
    {
      "cell_type": "code",
      "source": [
        "def mermaid_ink_string(graph):\n",
        "  graphbytes = graph.encode(\"utf-8\")\n",
        "  base64_bytes = base64.b64encode(graphbytes)\n",
        "  base64_string = base64_bytes.decode(\"utf-8\")\n",
        "  string = base64_string\n",
        "  return string\n",
        "\n",
        "string = mermaid_ink_string(mermaid_code)\n",
        "url_image_svg = \"https://mermaid.ink/svg/\" + string\n",
        "print(\"lien vers l'image mermaid : \" + url_image_svg)\n",
        "\n",
        "filename = string[:8] + \".svg\"\n",
        "\n",
        "response = requests.get(url_image_svg)\n",
        "if response.status_code == 200:\n",
        "  # Enregistrer l'image SVG dans un fichier\n",
        "  with open(filename, \"wb\") as file:\n",
        "    file.write(response.content)\n",
        "  print(f\"L'image SVG a été enregistrée sous le nom '{filename}'\")\n",
        "else:\n",
        "  print(\"Erreur lors du téléchargement de l'image SVG\")\n",
        "SVG(response.text)"
      ],
      "metadata": {
        "id": "e4OzCpdReEZQ"
      },
      "execution_count": null,
      "outputs": []
    },
    {
      "cell_type": "markdown",
      "source": [
        "##PNG - Qualité basse"
      ],
      "metadata": {
        "id": "p8cJkVggiiZ4"
      }
    },
    {
      "cell_type": "code",
      "source": [
        "def mermaid_ink_string(graph):\n",
        "  graphbytes = graph.encode(\"utf-8\")\n",
        "  base64_bytes = base64.b64encode(graphbytes)\n",
        "  base64_string = base64_bytes.decode(\"utf-8\")\n",
        "  string = base64_string\n",
        "  return string\n",
        "\n",
        "string = mermaid_ink_string(mermaid_code)\n",
        "\n",
        "url_image_png = \"https://mermaid.ink/img/\" + string\n",
        "print(\"lien vers l'image mermaid : \" + url_image_png)\n",
        "\n",
        "filename = string[:8] + \".png\"\n",
        "\n",
        "response = requests.get(url_image_png)\n",
        "\n",
        "display(Image(url=url_image_png))\n",
        "\n",
        "response = requests.get(url_image_png)\n",
        "if response.status_code == 200:\n",
        "  # Enregistrer l'image SVG dans un fichier\n",
        "  with open(filename, \"wb\") as file:\n",
        "    file.write(response.content)\n",
        "  print(f\"L'image SVG a été enregistrée sous le nom '{filename}'\")\n",
        "else:\n",
        "  print(\"Erreur lors du téléchargement de l'image PNG\")"
      ],
      "metadata": {
        "id": "-bAM9KT3inie"
      },
      "execution_count": null,
      "outputs": []
    }
  ]
}