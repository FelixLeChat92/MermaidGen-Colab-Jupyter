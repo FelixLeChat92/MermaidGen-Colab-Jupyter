{
  "nbformat": 4,
  "nbformat_minor": 0,
  "metadata": {
    "colab": {
      "provenance": [],
      "authorship_tag": "ABX9TyOPd8D/4S/mbLViq2k0Aobl",
      "include_colab_link": true
    },
    "kernelspec": {
      "name": "python3",
      "display_name": "Python 3"
    },
    "language_info": {
      "name": "python"
    }
  },
  "cells": [
    {
      "cell_type": "markdown",
      "metadata": {
        "id": "view-in-github",
        "colab_type": "text"
      },
      "source": [
        "<a href=\"https://colab.research.google.com/github/FelixLeChat92/MermaidGen-Colab-Jupyter/blob/main/MermaidGen_en.ipynb\" target=\"_parent\"><img src=\"https://colab.research.google.com/assets/colab-badge.svg\" alt=\"Open In Colab\"/></a>"
      ]
    },
    {
      "cell_type": "markdown",
      "source": [
        "# Mermaid Diagram Generation\n",
        "\n",
        "This notebook allows you to generate Mermaid diagrams in different formats (SVG, PNG) and export them. It uses the online services [mermaid.live](https://mermaid.live/), [kroki.io](https://kroki.io/), and [mermaid.ink](https://mermaid.ink/) for rendering the diagrams.\n",
        "\n",
        "## Table of Contents\n",
        "\n",
        "- [Importing Libraries](#importation)\n",
        "- [Defining the Mermaid Diagram](#diagramme-mermaid)\n",
        "- [Generating an Edit Link on mermaid.live](#lien-mermaid-live)\n",
        "- [Exporting as SVG with kroki.io](#export-svg-kroki)\n",
        "- [Exporting with mermaid.ink](#export-mermaid-ink)\n",
        "  - [SVG Format](#export-svg-mermaid-ink)\n",
        "  - [PNG Format](#export-png-mermaid-ink)\n",
        "- [Conclusion](#conclusion)"
      ],
      "metadata": {
        "id": "2dJDe0Is0iei"
      }
    },
    {
      "cell_type": "markdown",
      "source": [
        "## Importing Libraries <a name=\"importation\"></a>\n",
        "\n",
        "The following libraries are used in this notebook:\n",
        "\n",
        "- `base64`: for encoding and decoding in base64\n",
        "- `zlib`: for compressing and decompressing data\n",
        "- `json`: for manipulating JSON data\n",
        "- `requests`: for making HTTP requests\n",
        "- `IPython.display`: for displaying images in the notebook"
      ],
      "metadata": {
        "id": "uQcmW79p0r9Z"
      }
    },
    {
      "cell_type": "code",
      "source": [
        "import base64\n",
        "import sys\n",
        "import json\n",
        "import zlib\n",
        "from IPython.display import SVG, Image\n",
        "import requests"
      ],
      "metadata": {
        "id": "uyZEygiV0s6b"
      },
      "execution_count": 1,
      "outputs": []
    },
    {
      "cell_type": "markdown",
      "source": [
        "## Defining the Mermaid Diagram <a name=\"diagramme-mermaid\"></a>\n",
        "\n",
        "The Mermaid code for the diagram to be generated is defined in the `mermaid_code` variable.\n",
        "Modify this variable to change the diagram. You can use the different types of Mermaid diagrams available and special characters supported by UTF-8.\n",
        "\n",
        "```mermaid\n",
        "mindmap\n",
        "  root((Root))\n",
        "    Branch 1\n",
        "      Node 1\n",
        "      Node 2\n",
        "    Branch 2\n",
        "      Node 3\n",
        "      Node 4\n",
        "```"
      ],
      "metadata": {
        "id": "ykaJya4y0vt4"
      }
    },
    {
      "cell_type": "code",
      "source": [
        "# Usage example\n",
        "mermaid_code = '''\n",
        "mindmap\n",
        "  root((Hypertension Medications))\n",
        "    Diuretics\n",
        "      Thiazides\n",
        "        Hydrochlorothiazide\n",
        "        Indapamide\n",
        "      Loop Diuretics\n",
        "'''"
      ],
      "metadata": {
        "id": "Y56J2y2F05Ko"
      },
      "execution_count": 2,
      "outputs": []
    },
    {
      "cell_type": "markdown",
      "source": [
        "## Generating an Edit Link on mermaid.live <a name=\"lien-mermaid-live\"></a>\n",
        "\n",
        "The `genPakoLink` function generates a link to the online editor [mermaid.live](https://mermaid.live/) pre-filled with the previously defined Mermaid code.\n",
        "\n",
        "Click on the generated link to open the diagram in mermaid.live and edit it interactively."
      ],
      "metadata": {
        "id": "9x2Hm2ss1GOJ"
      }
    },
    {
      "cell_type": "code",
      "source": [
        "def js_btoa(data):\n",
        "    return base64.b64encode(data)\n",
        "\n",
        "def pako_deflate(data):\n",
        "    compress = zlib.compressobj(9, zlib.DEFLATED, 15, 8, zlib.Z_DEFAULT_STRATEGY)\n",
        "    compressed_data = compress.compress(data)\n",
        "    compressed_data += compress.flush()\n",
        "    return compressed_data\n",
        "\n",
        "def genPakoLink(graphMarkdown: str):\n",
        "    jGraph = {\"code\": graphMarkdown, \"mermaid\": {\"theme\": \"standard\"}}\n",
        "    byteStr = json.dumps(jGraph).encode('utf-8')\n",
        "    deflated = pako_deflate(byteStr)\n",
        "    dEncode = js_btoa(deflated)\n",
        "    link_code = dEncode.decode('ascii')\n",
        "    return link_code\n",
        "\n",
        "mermaid_link = genPakoLink(mermaid_code)\n",
        "print(\"mermaid.live link:\")\n",
        "print('http://mermaid.live/edit#pako:' + mermaid_link)"
      ],
      "metadata": {
        "id": "DaGOaeNM1E2R"
      },
      "execution_count": null,
      "outputs": []
    },
    {
      "cell_type": "markdown",
      "source": [
        "## Exporting as SVG with kroki.io <a name=\"export-svg-kroki\"></a>\n",
        "\n",
        "The `encode_mermaid_to_kroki_url` function generates a link to an SVG image of the diagram using the [kroki.io](https://kroki.io/) service.\n",
        "\n",
        "The following code downloads this SVG image and saves it in the current directory."
      ],
      "metadata": {
        "id": "mqUmZidT1hbD"
      }
    },
    {
      "cell_type": "code",
      "source": [
        "def encode_mermaid_to_kroki_url(mermaid_diagram, compression_level=9):\n",
        "    # Compress the Mermaid diagram with zlib\n",
        "    mermaid_compressed = zlib.compress(mermaid_diagram.encode('utf-8'), compression_level)\n",
        "\n",
        "    # Encode the compressed diagram in URL-safe base64\n",
        "    mermaid_base64 = base64.urlsafe_b64encode(mermaid_compressed).decode('utf-8')\n",
        "\n",
        "    # Construct the complete Kroki URL\n",
        "    kroki_url = f\"https://kroki.io/mermaid/svg/{mermaid_base64}\"\n",
        "\n",
        "    return kroki_url\n",
        "\n",
        "kroki_link = encode_mermaid_to_kroki_url(mermaid_code)\n",
        "print(kroki_link)\n",
        "\n",
        "string = kroki_link[-8:]\n",
        "filename = string + \".svg\"\n",
        "\n",
        "response = requests.get(kroki_link)\n",
        "if response.status_code == 200:\n",
        "  # Save the SVG image to a file\n",
        "  with open(filename, \"wb\") as file:\n",
        "    file.write(response.content)\n",
        "  print(f\"The SVG image has been saved as '{filename}'\")\n",
        "else:\n",
        "  print(\"Error downloading the SVG image\")\n",
        "SVG(response.text)"
      ],
      "metadata": {
        "id": "Pcs2tVxP1jhq"
      },
      "execution_count": null,
      "outputs": []
    },
    {
      "cell_type": "markdown",
      "source": [
        "## Export with mermaid.ink <a name=\"export-mermaid-ink\"></a>"
      ],
      "metadata": {
        "id": "1q6t60q21rDg"
      }
    },
    {
      "cell_type": "markdown",
      "source": [
        "### SVG Format <a name=\"export-svg-mermaid-ink\"></a>\n",
        "\n",
        "This section generates an SVG image of the diagram using [mermaid.ink](https://mermaid.ink/), displays it in the notebook, and saves it to a file."
      ],
      "metadata": {
        "id": "66OzWThB1wHI"
      }
    },
    {
      "cell_type": "code",
      "source": [
        "def mermaid_ink_string(graph):\n",
        "  graphbytes = graph.encode(\"utf-8\")\n",
        "  base64_bytes = base64.b64encode(graphbytes)\n",
        "  base64_string = base64_bytes.decode(\"utf-8\")\n",
        "  string = base64_string\n",
        "  return string\n",
        "\n",
        "string = mermaid_ink_string(mermaid_code)\n",
        "url_image_svg = \"https://mermaid.ink/svg/\" + string\n",
        "print(\"Link to the Mermaid image: \" + url_image_svg)\n",
        "\n",
        "filename = string[:8] + \".svg\"\n",
        "\n",
        "response = requests.get(url_image_svg)\n",
        "if response.status_code == 200:\n",
        "  # Save the SVG image to a file\n",
        "  with open(filename, \"wb\") as file:\n",
        "    file.write(response.content)\n",
        "  print(f\"The SVG image has been saved as '{filename}'\")\n",
        "else:\n",
        "  print(\"Error downloading the SVG image\")\n",
        "SVG(response.text)"
      ],
      "metadata": {
        "id": "lL8J_GYM166b"
      },
      "execution_count": null,
      "outputs": []
    },
    {
      "cell_type": "markdown",
      "source": [
        "## PNG - Low Quality\n",
        "### PNG Format <a name=\"export-png-mermaid-ink\"></a>\n",
        "\n",
        "Similar to the previous section but generates a PNG image (lower quality)."
      ],
      "metadata": {
        "id": "2DI3OWtJ2CUY"
      }
    },
    {
      "cell_type": "code",
      "source": [
        "def mermaid_ink_string(graph):\n",
        "  graphbytes = graph.encode(\"utf-8\")\n",
        "  base64_bytes = base64.b64encode(graphbytes)\n",
        "  base64_string = base64_bytes.decode(\"utf-8\")\n",
        "  string = base64_string\n",
        "  return string\n",
        "\n",
        "string = mermaid_ink_string(mermaid_code)\n",
        "\n",
        "url_image_png = \"https://mermaid.ink/img/\" + string\n",
        "print(\"Link to the Mermaid image: \" + url_image_png)\n",
        "\n",
        "filename = string[:8] + \".png\"\n",
        "\n",
        "response = requests.get(url_image_png)\n",
        "\n",
        "display(Image(url=url_image_png))\n",
        "\n",
        "response = requests.get(url_image_png)\n",
        "if response.status_code == 200:\n",
        "  # Save the PNG image to a file\n",
        "  with open(filename, \"wb\") as file:\n",
        "    file.write(response.content)\n",
        "  print(f\"The PNG image has been saved as '{filename}'\")\n",
        "else:\n",
        "  print(\"Error downloading the PNG image\")"
      ],
      "metadata": {
        "id": "Z1XMlDvu2Bjw"
      },
      "execution_count": null,
      "outputs": []
    },
    {
      "cell_type": "markdown",
      "source": [
        "## Conclusion <a name=\"Conclusion\"></a>\n",
        "\n",
        "This notebook facilitates the generation and export of Mermaid diagrams in different formats. You can adapt it to your needs by modifying the Mermaid code in the `mermaid_code` variable.\n",
        "\n",
        "## Resources\n",
        "\n",
        "- Mermaid Documentation: [https://mermaid.js.org/](https://mermaid.js.org/)\n",
        "- Online editor mermaid.live: [https://mermaid.live/](https://mermaid.live/)\n",
        "- Image rendering service kroki.io: [https://kroki.io/](https://kroki.io/)\n",
        "- mermaid.ink service: [https://mermaid.ink/](https://mermaid.ink/)"
      ],
      "metadata": {
        "id": "UT-uZm3u2Mkc"
      }
    }
  ]
}